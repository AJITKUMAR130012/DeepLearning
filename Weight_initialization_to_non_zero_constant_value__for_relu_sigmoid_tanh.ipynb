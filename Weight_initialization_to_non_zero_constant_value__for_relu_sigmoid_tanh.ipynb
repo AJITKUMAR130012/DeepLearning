{
  "nbformat": 4,
  "nbformat_minor": 0,
  "metadata": {
    "colab": {
      "provenance": [],
      "collapsed_sections": []
    },
    "kernelspec": {
      "name": "python3",
      "display_name": "Python 3"
    },
    "language_info": {
      "name": "python"
    }
  },
  "cells": [
    {
      "cell_type": "markdown",
      "source": [
        "## Here Our intension is to show that if we initialize non_zero constant number to the function like relu, sigmoid and tanh then weight from the same input would be same so it can work like linear classification only(Like Perceptron)"
      ],
      "metadata": {
        "id": "LZx_JNN4UQif"
      }
    },
    {
      "cell_type": "code",
      "source": [
        "import numpy as np\n",
        "import pandas as pd\n",
        "import matplotlib.pyplot as plt\n",
        "import tensorflow\n",
        "from tensorflow import keras\n",
        "from keras import Sequential\n",
        "from keras.layers import Dense\n",
        "from sklearn.datasets import make_classification"
      ],
      "metadata": {
        "id": "k2KY73QvUOGc"
      },
      "execution_count": 146,
      "outputs": []
    },
    {
      "cell_type": "code",
      "source": [
        "X,y=make_classification(n_samples=100,n_features=2,n_informative=2,n_redundant=0,n_classes=2,n_clusters_per_class=2,random_state=4)"
      ],
      "metadata": {
        "id": "FjZjCiDyII6A"
      },
      "execution_count": 147,
      "outputs": []
    },
    {
      "cell_type": "code",
      "source": [
        "plt.scatter(X[:,0],X[:,1],c=y[:])"
      ],
      "metadata": {
        "colab": {
          "base_uri": "https://localhost:8080/",
          "height": 283
        },
        "id": "I57zhvoBIn0I",
        "outputId": "c009ad25-7048-4a10-e5a2-4e8669e8af18"
      },
      "execution_count": 148,
      "outputs": [
        {
          "output_type": "execute_result",
          "data": {
            "text/plain": [
              "<matplotlib.collections.PathCollection at 0x7f53d4632290>"
            ]
          },
          "metadata": {},
          "execution_count": 148
        },
        {
          "output_type": "display_data",
          "data": {
            "text/plain": [
              "<Figure size 432x288 with 1 Axes>"
            ],
            "image/png": "[encoded data removed]"
          },
          "metadata": {
            "needs_background": "light"
          }
        }
      ]
    },
    {
      "cell_type": "code",
      "source": [
        "#Testing for the sigmoid function\n",
        "model1=Sequential()\n",
        "model1.add(Dense(2,activation='sigmoid',input_dim=2))\n",
        "model1.add(Dense(2,activation='sigmoid'))\n",
        "model1.add(Dense(1,activation='sigmoid'))"
      ],
      "metadata": {
        "id": "CwF3tgImKrx4"
      },
      "execution_count": 149,
      "outputs": []
    },
    {
      "cell_type": "code",
      "source": [
        "model1.compile(loss='binary_crossentropy',optimizer='adam',metrics=['accuracy'])"
      ],
      "metadata": {
        "id": "Bpwl_Fp2OPcw"
      },
      "execution_count": 150,
      "outputs": []
    },
    {
      "cell_type": "code",
      "source": [
        "model1.fit(X,y,epochs=500,validation_split=0.2,verbose=False)"
      ],
      "metadata": {
        "colab": {
          "base_uri": "https://localhost:8080/"
        },
        "id": "nJCdmZbmOY93",
        "outputId": "4272f5b9-bfc3-4ca4-b39f-a635e27c81cc"
      },
      "execution_count": 151,
      "outputs": [
        {
          "output_type": "execute_result",
          "data": {
            "text/plain": [
              "<keras.callbacks.History at 0x7f53c7b80e90>"
            ]
          },
          "metadata": {},
          "execution_count": 151
        }
      ]
    },
    {
      "cell_type": "code",
      "source": [
        "#decision boundary before initialization to constant weight\n",
        "from mlxtend.plotting import plot_decision_regions\n",
        "plot_decision_regions(X,y.astype('int'),clf=model1,legend=2)"
      ],
      "metadata": {
        "colab": {
          "base_uri": "https://localhost:8080/",
          "height": 283
        },
        "id": "bOzfrXxhOe79",
        "outputId": "73ac0e56-e0e1-4d5b-cfed-54623331a0fb"
      },
      "execution_count": 152,
      "outputs": [
        {
          "output_type": "execute_result",
          "data": {
            "text/plain": [
              "<matplotlib.axes._subplots.AxesSubplot at 0x7f53c19fd0d0>"
            ]
          },
          "metadata": {},
          "execution_count": 152
        },
        {
          "output_type": "display_data",
          "data": {
            "text/plain": [
              "<Figure size 432x288 with 1 Axes>"
            ],
            "image/png": "[encoded data removed]"
          },
          "metadata": {
            "needs_background": "light"
          }
        }
      ]
    },
    {
      "cell_type": "code",
      "source": [
        "initial_weight1=model1.get_weights()\n",
        "print(len(initial_weight1))"
      ],
      "metadata": {
        "colab": {
          "base_uri": "https://localhost:8080/"
        },
        "id": "BW2M6dfXLULz",
        "outputId": "33904169-7a37-4a97-b3d1-a72f0d1b2d56"
      },
      "execution_count": 153,
      "outputs": [
        {
          "output_type": "stream",
          "name": "stdout",
          "text": [
            "6\n"
          ]
        }
      ]
    },
    {
      "cell_type": "code",
      "source": [
        "initial_weight1[0]=np.ones(model1.get_weights()[0].shape)\n",
        "initial_weight1[1]=np.ones(model1.get_weights()[1].shape)\n",
        "initial_weight1[2]=np.ones(model1.get_weights()[2].shape)\n",
        "initial_weight1[3]=np.ones(model1.get_weights()[3].shape)\n",
        "initial_weight1[4]=np.ones(model1.get_weights()[4].shape)\n",
        "initial_weight1[5]=np.ones(model1.get_weights()[5].shape)"
      ],
      "metadata": {
        "id": "ZZTzjAoKLc17"
      },
      "execution_count": 154,
      "outputs": []
    },
    {
      "cell_type": "code",
      "source": [
        "model1.set_weights(initial_weight1)"
      ],
      "metadata": {
        "id": "e-bsnVl-M8m_"
      },
      "execution_count": 155,
      "outputs": []
    },
    {
      "cell_type": "code",
      "source": [
        "\n",
        "model1.get_weights()"
      ],
      "metadata": {
        "colab": {
          "base_uri": "https://localhost:8080/"
        },
        "id": "Itr5zYgYNBeY",
        "outputId": "5b263cad-db2e-41d7-9766-5e2225866cd8"
      },
      "execution_count": 156,
      "outputs": [
        {
          "output_type": "execute_result",
          "data": {
            "text/plain": [
              "[array([[1., 1.],\n",
              "        [1., 1.]], dtype=float32),\n",
              " array([1., 1.], dtype=float32),\n",
              " array([[1., 1.],\n",
              "        [1., 1.]], dtype=float32),\n",
              " array([1., 1.], dtype=float32),\n",
              " array([[1.],\n",
              "        [1.]], dtype=float32),\n",
              " array([1.], dtype=float32)]"
            ]
          },
          "metadata": {},
          "execution_count": 156
        }
      ]
    },
    {
      "cell_type": "code",
      "source": [
        "model1.compile(loss='binary_crossentropy',optimizer='adam',metrics=['accuracy'])"
      ],
      "metadata": {
        "id": "FNhUjrBwNGB9"
      },
      "execution_count": 157,
      "outputs": []
    },
    {
      "cell_type": "code",
      "source": [
        "\n",
        "model1.fit(X,y,epochs=100,validation_split=0.2)"
      ],
      "metadata": {
        "colab": {
          "base_uri": "https://localhost:8080/"
        },
        "id": "zGXB-fwBNbcT",
        "outputId": "6ec3215b-c0a6-4a3b-aa5b-842db4d82259"
      },
      "execution_count": 158,
      "outputs": [
        {
          "output_type": "stream",
          "name": "stdout",
          "text": [
            "Epoch 1/100\n",
            "3/3 [==============================] - 1s 80ms/step - loss: 1.4326 - accuracy: 0.5000 - val_loss: 1.4381 - val_accuracy: 0.5000\n",
            "Epoch 2/100\n",
            "3/3 [==============================] - 0s 15ms/step - loss: 1.4283 - accuracy: 0.5000 - val_loss: 1.4338 - val_accuracy: 0.5000\n",
            "Epoch 3/100\n",
            "3/3 [==============================] - 0s 14ms/step - loss: 1.4238 - accuracy: 0.5000 - val_loss: 1.4295 - val_accuracy: 0.5000\n",
            "Epoch 4/100\n",
            "3/3 [==============================] - 0s 16ms/step - loss: 1.4198 - accuracy: 0.5000 - val_loss: 1.4253 - val_accuracy: 0.5000\n",
            "Epoch 5/100\n",
            "3/3 [==============================] - 0s 17ms/step - loss: 1.4154 - accuracy: 0.5000 - val_loss: 1.4210 - val_accuracy: 0.5000\n",
            "Epoch 6/100\n",
            "3/3 [==============================] - 0s 15ms/step - loss: 1.4112 - accuracy: 0.5000 - val_loss: 1.4168 - val_accuracy: 0.5000\n",
            "Epoch 7/100\n",
            "3/3 [==============================] - 0s 15ms/step - loss: 1.4068 - accuracy: 0.5000 - val_loss: 1.4126 - val_accuracy: 0.5000\n",
            "Epoch 8/100\n",
            "3/3 [==============================] - 0s 16ms/step - loss: 1.4027 - accuracy: 0.5000 - val_loss: 1.4083 - val_accuracy: 0.5000\n",
            "Epoch 9/100\n",
            "3/3 [==============================] - 0s 15ms/step - loss: 1.3984 - accuracy: 0.5000 - val_loss: 1.4040 - val_accuracy: 0.5000\n",
            "Epoch 10/100\n",
            "3/3 [==============================] - 0s 15ms/step - loss: 1.3940 - accuracy: 0.5000 - val_loss: 1.3998 - val_accuracy: 0.5000\n",
            "Epoch 11/100\n",
            "3/3 [==============================] - 0s 14ms/step - loss: 1.3896 - accuracy: 0.5000 - val_loss: 1.3955 - val_accuracy: 0.5000\n",
            "Epoch 12/100\n",
            "3/3 [==============================] - 0s 14ms/step - loss: 1.3855 - accuracy: 0.5000 - val_loss: 1.3913 - val_accuracy: 0.5000\n",
            "Epoch 13/100\n",
            "3/3 [==============================] - 0s 14ms/step - loss: 1.3812 - accuracy: 0.5000 - val_loss: 1.3870 - val_accuracy: 0.5000\n",
            "Epoch 14/100\n",
            "3/3 [==============================] - 0s 16ms/step - loss: 1.3771 - accuracy: 0.5000 - val_loss: 1.3827 - val_accuracy: 0.5000\n",
            "Epoch 15/100\n",
            "3/3 [==============================] - 0s 16ms/step - loss: 1.3731 - accuracy: 0.5000 - val_loss: 1.3785 - val_accuracy: 0.5000\n",
            "Epoch 16/100\n",
            "3/3 [==============================] - 0s 17ms/step - loss: 1.3685 - accuracy: 0.5000 - val_loss: 1.3745 - val_accuracy: 0.5000\n",
            "Epoch 17/100\n",
            "3/3 [==============================] - 0s 16ms/step - loss: 1.3644 - accuracy: 0.5000 - val_loss: 1.3704 - val_accuracy: 0.5000\n",
            "Epoch 18/100\n",
            "3/3 [==============================] - 0s 16ms/step - loss: 1.3605 - accuracy: 0.5000 - val_loss: 1.3663 - val_accuracy: 0.5000\n",
            "Epoch 19/100\n",
            "3/3 [==============================] - 0s 25ms/step - loss: 1.3564 - accuracy: 0.5000 - val_loss: 1.3621 - val_accuracy: 0.5000\n",
            "Epoch 20/100\n",
            "3/3 [==============================] - 0s 15ms/step - loss: 1.3522 - accuracy: 0.5000 - val_loss: 1.3580 - val_accuracy: 0.5000\n",
            "Epoch 21/100\n",
            "3/3 [==============================] - 0s 20ms/step - loss: 1.3480 - accuracy: 0.5000 - val_loss: 1.3540 - val_accuracy: 0.5000\n",
            "Epoch 22/100\n",
            "3/3 [==============================] - 0s 15ms/step - loss: 1.3440 - accuracy: 0.5000 - val_loss: 1.3498 - val_accuracy: 0.5000\n",
            "Epoch 23/100\n",
            "3/3 [==============================] - 0s 15ms/step - loss: 1.3399 - accuracy: 0.5000 - val_loss: 1.3457 - val_accuracy: 0.5000\n",
            "Epoch 24/100\n",
            "3/3 [==============================] - 0s 16ms/step - loss: 1.3355 - accuracy: 0.5000 - val_loss: 1.3416 - val_accuracy: 0.5000\n",
            "Epoch 25/100\n",
            "3/3 [==============================] - 0s 16ms/step - loss: 1.3318 - accuracy: 0.5000 - val_loss: 1.3375 - val_accuracy: 0.5000\n",
            "Epoch 26/100\n",
            "3/3 [==============================] - 0s 15ms/step - loss: 1.3276 - accuracy: 0.5000 - val_loss: 1.3334 - val_accuracy: 0.5000\n",
            "Epoch 27/100\n",
            "3/3 [==============================] - 0s 16ms/step - loss: 1.3233 - accuracy: 0.5000 - val_loss: 1.3293 - val_accuracy: 0.5000\n",
            "Epoch 28/100\n",
            "3/3 [==============================] - 0s 16ms/step - loss: 1.3193 - accuracy: 0.5000 - val_loss: 1.3253 - val_accuracy: 0.5000\n",
            "Epoch 29/100\n",
            "3/3 [==============================] - 0s 15ms/step - loss: 1.3154 - accuracy: 0.5000 - val_loss: 1.3212 - val_accuracy: 0.5000\n",
            "Epoch 30/100\n",
            "3/3 [==============================] - 0s 15ms/step - loss: 1.3113 - accuracy: 0.5000 - val_loss: 1.3171 - val_accuracy: 0.5000\n",
            "Epoch 31/100\n",
            "3/3 [==============================] - 0s 15ms/step - loss: 1.3073 - accuracy: 0.5000 - val_loss: 1.3131 - val_accuracy: 0.5000\n",
            "Epoch 32/100\n",
            "3/3 [==============================] - 0s 16ms/step - loss: 1.3033 - accuracy: 0.5000 - val_loss: 1.3091 - val_accuracy: 0.5000\n",
            "Epoch 33/100\n",
            "3/3 [==============================] - 0s 16ms/step - loss: 1.2992 - accuracy: 0.5000 - val_loss: 1.3051 - val_accuracy: 0.5000\n",
            "Epoch 34/100\n",
            "3/3 [==============================] - 0s 18ms/step - loss: 1.2954 - accuracy: 0.5000 - val_loss: 1.3012 - val_accuracy: 0.5000\n",
            "Epoch 35/100\n",
            "3/3 [==============================] - 0s 19ms/step - loss: 1.2914 - accuracy: 0.5000 - val_loss: 1.2972 - val_accuracy: 0.5000\n",
            "Epoch 36/100\n",
            "3/3 [==============================] - 0s 18ms/step - loss: 1.2874 - accuracy: 0.5000 - val_loss: 1.2933 - val_accuracy: 0.5000\n",
            "Epoch 37/100\n",
            "3/3 [==============================] - 0s 21ms/step - loss: 1.2836 - accuracy: 0.5000 - val_loss: 1.2895 - val_accuracy: 0.5000\n",
            "Epoch 38/100\n",
            "3/3 [==============================] - 0s 17ms/step - loss: 1.2797 - accuracy: 0.5000 - val_loss: 1.2856 - val_accuracy: 0.5000\n",
            "Epoch 39/100\n",
            "3/3 [==============================] - 0s 16ms/step - loss: 1.2758 - accuracy: 0.5000 - val_loss: 1.2818 - val_accuracy: 0.5000\n",
            "Epoch 40/100\n",
            "3/3 [==============================] - 0s 15ms/step - loss: 1.2720 - accuracy: 0.5000 - val_loss: 1.2779 - val_accuracy: 0.5000\n",
            "Epoch 41/100\n",
            "3/3 [==============================] - 0s 18ms/step - loss: 1.2682 - accuracy: 0.5000 - val_loss: 1.2740 - val_accuracy: 0.5000\n",
            "Epoch 42/100\n",
            "3/3 [==============================] - 0s 26ms/step - loss: 1.2645 - accuracy: 0.5000 - val_loss: 1.2702 - val_accuracy: 0.5000\n",
            "Epoch 43/100\n",
            "3/3 [==============================] - 0s 19ms/step - loss: 1.2605 - accuracy: 0.5000 - val_loss: 1.2665 - val_accuracy: 0.5000\n",
            "Epoch 44/100\n",
            "3/3 [==============================] - 0s 15ms/step - loss: 1.2567 - accuracy: 0.5000 - val_loss: 1.2627 - val_accuracy: 0.5000\n",
            "Epoch 45/100\n",
            "3/3 [==============================] - 0s 16ms/step - loss: 1.2531 - accuracy: 0.5000 - val_loss: 1.2588 - val_accuracy: 0.5000\n",
            "Epoch 46/100\n",
            "3/3 [==============================] - 0s 17ms/step - loss: 1.2494 - accuracy: 0.5000 - val_loss: 1.2550 - val_accuracy: 0.5000\n",
            "Epoch 47/100\n",
            "3/3 [==============================] - 0s 17ms/step - loss: 1.2454 - accuracy: 0.5000 - val_loss: 1.2512 - val_accuracy: 0.5000\n",
            "Epoch 48/100\n",
            "3/3 [==============================] - 0s 19ms/step - loss: 1.2416 - accuracy: 0.5000 - val_loss: 1.2474 - val_accuracy: 0.5000\n",
            "Epoch 49/100\n",
            "3/3 [==============================] - 0s 17ms/step - loss: 1.2379 - accuracy: 0.5000 - val_loss: 1.2436 - val_accuracy: 0.5000\n",
            "Epoch 50/100\n",
            "3/3 [==============================] - 0s 16ms/step - loss: 1.2343 - accuracy: 0.5000 - val_loss: 1.2398 - val_accuracy: 0.5000\n",
            "Epoch 51/100\n",
            "3/3 [==============================] - 0s 15ms/step - loss: 1.2303 - accuracy: 0.5000 - val_loss: 1.2362 - val_accuracy: 0.5000\n",
            "Epoch 52/100\n",
            "3/3 [==============================] - 0s 17ms/step - loss: 1.2266 - accuracy: 0.5000 - val_loss: 1.2325 - val_accuracy: 0.5000\n",
            "Epoch 53/100\n",
            "3/3 [==============================] - 0s 15ms/step - loss: 1.2232 - accuracy: 0.5000 - val_loss: 1.2287 - val_accuracy: 0.5000\n",
            "Epoch 54/100\n",
            "3/3 [==============================] - 0s 19ms/step - loss: 1.2194 - accuracy: 0.5000 - val_loss: 1.2249 - val_accuracy: 0.5000\n",
            "Epoch 55/100\n",
            "3/3 [==============================] - 0s 16ms/step - loss: 1.2155 - accuracy: 0.5000 - val_loss: 1.2212 - val_accuracy: 0.5000\n",
            "Epoch 56/100\n",
            "3/3 [==============================] - 0s 17ms/step - loss: 1.2119 - accuracy: 0.5000 - val_loss: 1.2175 - val_accuracy: 0.5000\n",
            "Epoch 57/100\n",
            "3/3 [==============================] - 0s 16ms/step - loss: 1.2081 - accuracy: 0.5000 - val_loss: 1.2138 - val_accuracy: 0.5000\n",
            "Epoch 58/100\n",
            "3/3 [==============================] - 0s 17ms/step - loss: 1.2046 - accuracy: 0.5000 - val_loss: 1.2101 - val_accuracy: 0.5000\n",
            "Epoch 59/100\n",
            "3/3 [==============================] - 0s 16ms/step - loss: 1.2008 - accuracy: 0.5000 - val_loss: 1.2063 - val_accuracy: 0.5000\n",
            "Epoch 60/100\n",
            "3/3 [==============================] - 0s 17ms/step - loss: 1.1972 - accuracy: 0.5000 - val_loss: 1.2026 - val_accuracy: 0.5000\n",
            "Epoch 61/100\n",
            "3/3 [==============================] - 0s 18ms/step - loss: 1.1934 - accuracy: 0.5000 - val_loss: 1.1989 - val_accuracy: 0.5000\n",
            "Epoch 62/100\n",
            "3/3 [==============================] - 0s 15ms/step - loss: 1.1898 - accuracy: 0.5000 - val_loss: 1.1952 - val_accuracy: 0.5000\n",
            "Epoch 63/100\n",
            "3/3 [==============================] - 0s 19ms/step - loss: 1.1862 - accuracy: 0.5000 - val_loss: 1.1916 - val_accuracy: 0.5000\n",
            "Epoch 64/100\n",
            "3/3 [==============================] - 0s 16ms/step - loss: 1.1824 - accuracy: 0.5000 - val_loss: 1.1880 - val_accuracy: 0.5000\n",
            "Epoch 65/100\n",
            "3/3 [==============================] - 0s 20ms/step - loss: 1.1789 - accuracy: 0.5000 - val_loss: 1.1845 - val_accuracy: 0.5000\n",
            "Epoch 66/100\n",
            "3/3 [==============================] - 0s 15ms/step - loss: 1.1755 - accuracy: 0.5000 - val_loss: 1.1809 - val_accuracy: 0.5000\n",
            "Epoch 67/100\n",
            "3/3 [==============================] - 0s 14ms/step - loss: 1.1719 - accuracy: 0.5000 - val_loss: 1.1774 - val_accuracy: 0.5000\n",
            "Epoch 68/100\n",
            "3/3 [==============================] - 0s 16ms/step - loss: 1.1688 - accuracy: 0.5000 - val_loss: 1.1738 - val_accuracy: 0.5000\n",
            "Epoch 69/100\n",
            "3/3 [==============================] - 0s 14ms/step - loss: 1.1651 - accuracy: 0.5000 - val_loss: 1.1703 - val_accuracy: 0.5000\n",
            "Epoch 70/100\n",
            "3/3 [==============================] - 0s 16ms/step - loss: 1.1617 - accuracy: 0.5000 - val_loss: 1.1669 - val_accuracy: 0.5000\n",
            "Epoch 71/100\n",
            "3/3 [==============================] - 0s 15ms/step - loss: 1.1583 - accuracy: 0.5000 - val_loss: 1.1635 - val_accuracy: 0.5000\n",
            "Epoch 72/100\n",
            "3/3 [==============================] - 0s 15ms/step - loss: 1.1549 - accuracy: 0.5000 - val_loss: 1.1601 - val_accuracy: 0.5000\n",
            "Epoch 73/100\n",
            "3/3 [==============================] - 0s 16ms/step - loss: 1.1515 - accuracy: 0.5000 - val_loss: 1.1567 - val_accuracy: 0.5000\n",
            "Epoch 74/100\n",
            "3/3 [==============================] - 0s 14ms/step - loss: 1.1482 - accuracy: 0.5000 - val_loss: 1.1533 - val_accuracy: 0.5000\n",
            "Epoch 75/100\n",
            "3/3 [==============================] - 0s 15ms/step - loss: 1.1449 - accuracy: 0.5000 - val_loss: 1.1499 - val_accuracy: 0.5000\n",
            "Epoch 76/100\n",
            "3/3 [==============================] - 0s 25ms/step - loss: 1.1414 - accuracy: 0.5000 - val_loss: 1.1465 - val_accuracy: 0.5000\n",
            "Epoch 77/100\n",
            "3/3 [==============================] - 0s 17ms/step - loss: 1.1382 - accuracy: 0.5000 - val_loss: 1.1432 - val_accuracy: 0.5000\n",
            "Epoch 78/100\n",
            "3/3 [==============================] - 0s 16ms/step - loss: 1.1349 - accuracy: 0.5000 - val_loss: 1.1399 - val_accuracy: 0.5000\n",
            "Epoch 79/100\n",
            "3/3 [==============================] - 0s 15ms/step - loss: 1.1317 - accuracy: 0.5000 - val_loss: 1.1365 - val_accuracy: 0.5000\n",
            "Epoch 80/100\n",
            "3/3 [==============================] - 0s 16ms/step - loss: 1.1284 - accuracy: 0.5000 - val_loss: 1.1332 - val_accuracy: 0.5000\n",
            "Epoch 81/100\n",
            "3/3 [==============================] - 0s 15ms/step - loss: 1.1250 - accuracy: 0.5000 - val_loss: 1.1299 - val_accuracy: 0.5000\n",
            "Epoch 82/100\n",
            "3/3 [==============================] - 0s 14ms/step - loss: 1.1218 - accuracy: 0.5000 - val_loss: 1.1267 - val_accuracy: 0.5000\n",
            "Epoch 83/100\n",
            "3/3 [==============================] - 0s 15ms/step - loss: 1.1188 - accuracy: 0.5000 - val_loss: 1.1234 - val_accuracy: 0.5000\n",
            "Epoch 84/100\n",
            "3/3 [==============================] - 0s 14ms/step - loss: 1.1155 - accuracy: 0.5000 - val_loss: 1.1202 - val_accuracy: 0.5000\n",
            "Epoch 85/100\n",
            "3/3 [==============================] - 0s 16ms/step - loss: 1.1123 - accuracy: 0.5000 - val_loss: 1.1170 - val_accuracy: 0.5000\n",
            "Epoch 86/100\n",
            "3/3 [==============================] - 0s 16ms/step - loss: 1.1093 - accuracy: 0.5000 - val_loss: 1.1137 - val_accuracy: 0.5000\n",
            "Epoch 87/100\n",
            "3/3 [==============================] - 0s 16ms/step - loss: 1.1059 - accuracy: 0.5000 - val_loss: 1.1106 - val_accuracy: 0.5000\n",
            "Epoch 88/100\n",
            "3/3 [==============================] - 0s 20ms/step - loss: 1.1029 - accuracy: 0.5000 - val_loss: 1.1074 - val_accuracy: 0.5000\n",
            "Epoch 89/100\n",
            "3/3 [==============================] - 0s 16ms/step - loss: 1.0997 - accuracy: 0.5000 - val_loss: 1.1042 - val_accuracy: 0.5000\n",
            "Epoch 90/100\n",
            "3/3 [==============================] - 0s 19ms/step - loss: 1.0967 - accuracy: 0.5000 - val_loss: 1.1010 - val_accuracy: 0.5000\n",
            "Epoch 91/100\n",
            "3/3 [==============================] - 0s 18ms/step - loss: 1.0935 - accuracy: 0.5000 - val_loss: 1.0978 - val_accuracy: 0.5000\n",
            "Epoch 92/100\n",
            "3/3 [==============================] - 0s 15ms/step - loss: 1.0903 - accuracy: 0.5000 - val_loss: 1.0947 - val_accuracy: 0.5000\n",
            "Epoch 93/100\n",
            "3/3 [==============================] - 0s 17ms/step - loss: 1.0872 - accuracy: 0.5000 - val_loss: 1.0915 - val_accuracy: 0.5000\n",
            "Epoch 94/100\n",
            "3/3 [==============================] - 0s 15ms/step - loss: 1.0842 - accuracy: 0.5000 - val_loss: 1.0883 - val_accuracy: 0.5000\n",
            "Epoch 95/100\n",
            "3/3 [==============================] - 0s 16ms/step - loss: 1.0811 - accuracy: 0.5000 - val_loss: 1.0852 - val_accuracy: 0.5000\n",
            "Epoch 96/100\n",
            "3/3 [==============================] - 0s 17ms/step - loss: 1.0780 - accuracy: 0.5000 - val_loss: 1.0821 - val_accuracy: 0.5000\n",
            "Epoch 97/100\n",
            "3/3 [==============================] - 0s 16ms/step - loss: 1.0749 - accuracy: 0.5000 - val_loss: 1.0791 - val_accuracy: 0.5000\n",
            "Epoch 98/100\n",
            "3/3 [==============================] - 0s 15ms/step - loss: 1.0719 - accuracy: 0.5000 - val_loss: 1.0761 - val_accuracy: 0.5000\n",
            "Epoch 99/100\n",
            "3/3 [==============================] - 0s 14ms/step - loss: 1.0691 - accuracy: 0.5000 - val_loss: 1.0730 - val_accuracy: 0.5000\n",
            "Epoch 100/100\n",
            "3/3 [==============================] - 0s 15ms/step - loss: 1.0660 - accuracy: 0.5000 - val_loss: 1.0699 - val_accuracy: 0.5000\n"
          ]
        },
        {
          "output_type": "execute_result",
          "data": {
            "text/plain": [
              "<keras.callbacks.History at 0x7f53c1939fd0>"
            ]
          },
          "metadata": {},
          "execution_count": 158
        }
      ]
    },
    {
      "cell_type": "code",
      "source": [
        "model1.get_weights()"
      ],
      "metadata": {
        "colab": {
          "base_uri": "https://localhost:8080/"
        },
        "id": "_-LRPOsWNsIl",
        "outputId": "66d2de21-8533-4fe4-ab37-f188db68b35c"
      },
      "execution_count": 159,
      "outputs": [
        {
          "output_type": "execute_result",
          "data": {
            "text/plain": [
              "[array([[1.1021917, 1.1021917],\n",
              "        [1.2657664, 1.2657664]], dtype=float32),\n",
              " array([0.725541, 0.725541], dtype=float32),\n",
              " array([[0.71829265, 0.71829265],\n",
              "        [0.71829265, 0.71829265]], dtype=float32),\n",
              " array([0.7057912, 0.7057912], dtype=float32),\n",
              " array([[0.72299707],\n",
              "        [0.72299707]], dtype=float32),\n",
              " array([0.7155331], dtype=float32)]"
            ]
          },
          "metadata": {},
          "execution_count": 159
        }
      ]
    },
    {
      "cell_type": "code",
      "source": [
        "\n",
        "#working like linear classification and also not correct\n",
        "from mlxtend.plotting import plot_decision_regions\n",
        "plot_decision_regions(X,y.astype('int'),clf=model1,legend=2)"
      ],
      "metadata": {
        "colab": {
          "base_uri": "https://localhost:8080/",
          "height": 283
        },
        "id": "XMK8UX25NyL_",
        "outputId": "8cd47e85-7956-4b82-ed20-dda352f78857"
      },
      "execution_count": 160,
      "outputs": [
        {
          "output_type": "execute_result",
          "data": {
            "text/plain": [
              "<matplotlib.axes._subplots.AxesSubplot at 0x7f53c17c9ed0>"
            ]
          },
          "metadata": {},
          "execution_count": 160
        },
        {
          "output_type": "display_data",
          "data": {
            "text/plain": [
              "<Figure size 432x288 with 1 Axes>"
            ],
            "image/png": "[encoded data removed]"
          },
          "metadata": {
            "needs_background": "light"
          }
        }
      ]
    },
    {
      "cell_type": "code",
      "source": [
        "#Testing for the relu function\n",
        "model2=Sequential()\n",
        "model2.add(Dense(2,activation='relu',input_dim=2))\n",
        "model2.add(Dense(2,activation='relu'))\n",
        "model2.add(Dense(1,activation='sigmoid'))"
      ],
      "metadata": {
        "id": "mY92ZxpuN5jK"
      },
      "execution_count": 161,
      "outputs": []
    },
    {
      "cell_type": "code",
      "source": [
        "\n",
        "model2.compile(loss='binary_crossentropy',optimizer='adam',metrics=['accuracy'])"
      ],
      "metadata": {
        "id": "FS5nK4lAP1WW"
      },
      "execution_count": 162,
      "outputs": []
    },
    {
      "cell_type": "code",
      "source": [
        "initial_weight2=model2.get_weights()\n",
        "print(len(initial_weight2))"
      ],
      "metadata": {
        "colab": {
          "base_uri": "https://localhost:8080/"
        },
        "id": "XyoFjUaaP7vR",
        "outputId": "f97b2db3-2108-4e1c-bbdb-2919b8188299"
      },
      "execution_count": 163,
      "outputs": [
        {
          "output_type": "stream",
          "name": "stdout",
          "text": [
            "6\n"
          ]
        }
      ]
    },
    {
      "cell_type": "code",
      "source": [
        "\n",
        "initial_weight2[0]=np.ones(model2.get_weights()[0].shape)\n",
        "initial_weight2[1]=np.ones(model2.get_weights()[1].shape)\n",
        "initial_weight2[2]=np.ones(model2.get_weights()[2].shape)\n",
        "initial_weight2[3]=np.ones(model2.get_weights()[3].shape)\n",
        "initial_weight2[4]=np.ones(model2.get_weights()[4].shape)\n",
        "initial_weight2[5]=np.ones(model2.get_weights()[5].shape)"
      ],
      "metadata": {
        "id": "BbKGIQtZP7yI"
      },
      "execution_count": 164,
      "outputs": []
    },
    {
      "cell_type": "code",
      "source": [
        "model2.set_weights(initial_weight2)"
      ],
      "metadata": {
        "id": "h0xwOUnYP71M"
      },
      "execution_count": 165,
      "outputs": []
    },
    {
      "cell_type": "code",
      "source": [
        "model2.fit(X,y,epochs=100,validation_split=0.2)"
      ],
      "metadata": {
        "colab": {
          "base_uri": "https://localhost:8080/"
        },
        "id": "Tt36bRMlP74H",
        "outputId": "0f034665-5ab1-4778-c5a1-d0872ef6cc32"
      },
      "execution_count": 166,
      "outputs": [
        {
          "output_type": "stream",
          "name": "stdout",
          "text": [
            "Epoch 1/100\n",
            "3/3 [==============================] - 1s 81ms/step - loss: 2.4793 - accuracy: 0.5000 - val_loss: 2.7811 - val_accuracy: 0.5000\n",
            "Epoch 2/100\n",
            "3/3 [==============================] - 0s 17ms/step - loss: 2.4586 - accuracy: 0.5000 - val_loss: 2.7548 - val_accuracy: 0.5000\n",
            "Epoch 3/100\n",
            "3/3 [==============================] - 0s 15ms/step - loss: 2.4380 - accuracy: 0.5000 - val_loss: 2.7287 - val_accuracy: 0.5000\n",
            "Epoch 4/100\n",
            "3/3 [==============================] - 0s 15ms/step - loss: 2.4193 - accuracy: 0.5000 - val_loss: 2.7024 - val_accuracy: 0.5000\n",
            "Epoch 5/100\n",
            "3/3 [==============================] - 0s 17ms/step - loss: 2.3976 - accuracy: 0.5000 - val_loss: 2.6771 - val_accuracy: 0.5000\n",
            "Epoch 6/100\n",
            "3/3 [==============================] - 0s 18ms/step - loss: 2.3809 - accuracy: 0.5000 - val_loss: 2.6512 - val_accuracy: 0.5000\n",
            "Epoch 7/100\n",
            "3/3 [==============================] - 0s 16ms/step - loss: 2.3606 - accuracy: 0.5000 - val_loss: 2.6261 - val_accuracy: 0.5000\n",
            "Epoch 8/100\n",
            "3/3 [==============================] - 0s 16ms/step - loss: 2.3428 - accuracy: 0.5000 - val_loss: 2.6010 - val_accuracy: 0.5000\n",
            "Epoch 9/100\n",
            "3/3 [==============================] - 0s 20ms/step - loss: 2.3229 - accuracy: 0.5000 - val_loss: 2.5765 - val_accuracy: 0.5000\n",
            "Epoch 10/100\n",
            "3/3 [==============================] - 0s 16ms/step - loss: 2.3063 - accuracy: 0.5000 - val_loss: 2.5516 - val_accuracy: 0.5000\n",
            "Epoch 11/100\n",
            "3/3 [==============================] - 0s 16ms/step - loss: 2.2861 - accuracy: 0.5000 - val_loss: 2.5276 - val_accuracy: 0.5000\n",
            "Epoch 12/100\n",
            "3/3 [==============================] - 0s 15ms/step - loss: 2.2682 - accuracy: 0.5000 - val_loss: 2.5036 - val_accuracy: 0.5000\n",
            "Epoch 13/100\n",
            "3/3 [==============================] - 0s 26ms/step - loss: 2.2509 - accuracy: 0.5000 - val_loss: 2.4797 - val_accuracy: 0.5000\n",
            "Epoch 14/100\n",
            "3/3 [==============================] - 0s 15ms/step - loss: 2.2326 - accuracy: 0.5000 - val_loss: 2.4565 - val_accuracy: 0.5000\n",
            "Epoch 15/100\n",
            "3/3 [==============================] - 0s 16ms/step - loss: 2.2155 - accuracy: 0.5000 - val_loss: 2.4335 - val_accuracy: 0.5000\n",
            "Epoch 16/100\n",
            "3/3 [==============================] - 0s 15ms/step - loss: 2.1967 - accuracy: 0.5000 - val_loss: 2.4112 - val_accuracy: 0.5000\n",
            "Epoch 17/100\n",
            "3/3 [==============================] - 0s 15ms/step - loss: 2.1810 - accuracy: 0.5000 - val_loss: 2.3884 - val_accuracy: 0.5000\n",
            "Epoch 18/100\n",
            "3/3 [==============================] - 0s 15ms/step - loss: 2.1631 - accuracy: 0.5000 - val_loss: 2.3661 - val_accuracy: 0.5000\n",
            "Epoch 19/100\n",
            "3/3 [==============================] - 0s 16ms/step - loss: 2.1469 - accuracy: 0.5000 - val_loss: 2.3439 - val_accuracy: 0.5000\n",
            "Epoch 20/100\n",
            "3/3 [==============================] - 0s 15ms/step - loss: 2.1287 - accuracy: 0.5000 - val_loss: 2.3227 - val_accuracy: 0.5000\n",
            "Epoch 21/100\n",
            "3/3 [==============================] - 0s 15ms/step - loss: 2.1127 - accuracy: 0.5000 - val_loss: 2.3012 - val_accuracy: 0.5000\n",
            "Epoch 22/100\n",
            "3/3 [==============================] - 0s 14ms/step - loss: 2.0961 - accuracy: 0.5000 - val_loss: 2.2797 - val_accuracy: 0.5000\n",
            "Epoch 23/100\n",
            "3/3 [==============================] - 0s 15ms/step - loss: 2.0796 - accuracy: 0.5000 - val_loss: 2.2583 - val_accuracy: 0.5000\n",
            "Epoch 24/100\n",
            "3/3 [==============================] - 0s 25ms/step - loss: 2.0631 - accuracy: 0.5000 - val_loss: 2.2372 - val_accuracy: 0.5000\n",
            "Epoch 25/100\n",
            "3/3 [==============================] - 0s 16ms/step - loss: 2.0473 - accuracy: 0.5000 - val_loss: 2.2162 - val_accuracy: 0.5000\n",
            "Epoch 26/100\n",
            "3/3 [==============================] - 0s 25ms/step - loss: 2.0307 - accuracy: 0.5000 - val_loss: 2.1956 - val_accuracy: 0.5000\n",
            "Epoch 27/100\n",
            "3/3 [==============================] - 0s 15ms/step - loss: 2.0150 - accuracy: 0.5000 - val_loss: 2.1750 - val_accuracy: 0.5000\n",
            "Epoch 28/100\n",
            "3/3 [==============================] - 0s 15ms/step - loss: 1.9994 - accuracy: 0.5000 - val_loss: 2.1545 - val_accuracy: 0.5000\n",
            "Epoch 29/100\n",
            "3/3 [==============================] - 0s 17ms/step - loss: 1.9830 - accuracy: 0.5000 - val_loss: 2.1342 - val_accuracy: 0.5000\n",
            "Epoch 30/100\n",
            "3/3 [==============================] - 0s 15ms/step - loss: 1.9687 - accuracy: 0.5000 - val_loss: 2.1136 - val_accuracy: 0.5000\n",
            "Epoch 31/100\n",
            "3/3 [==============================] - 0s 18ms/step - loss: 1.9519 - accuracy: 0.5000 - val_loss: 2.0939 - val_accuracy: 0.5000\n",
            "Epoch 32/100\n",
            "3/3 [==============================] - 0s 16ms/step - loss: 1.9368 - accuracy: 0.5000 - val_loss: 2.0743 - val_accuracy: 0.5000\n",
            "Epoch 33/100\n",
            "3/3 [==============================] - 0s 17ms/step - loss: 1.9215 - accuracy: 0.5000 - val_loss: 2.0549 - val_accuracy: 0.5000\n",
            "Epoch 34/100\n",
            "3/3 [==============================] - 0s 15ms/step - loss: 1.9066 - accuracy: 0.5000 - val_loss: 2.0357 - val_accuracy: 0.5000\n",
            "Epoch 35/100\n",
            "3/3 [==============================] - 0s 16ms/step - loss: 1.8927 - accuracy: 0.5000 - val_loss: 2.0165 - val_accuracy: 0.5000\n",
            "Epoch 36/100\n",
            "3/3 [==============================] - 0s 15ms/step - loss: 1.8765 - accuracy: 0.5000 - val_loss: 1.9981 - val_accuracy: 0.5000\n",
            "Epoch 37/100\n",
            "3/3 [==============================] - 0s 14ms/step - loss: 1.8637 - accuracy: 0.5000 - val_loss: 1.9793 - val_accuracy: 0.5000\n",
            "Epoch 38/100\n",
            "3/3 [==============================] - 0s 14ms/step - loss: 1.8480 - accuracy: 0.5000 - val_loss: 1.9612 - val_accuracy: 0.5000\n",
            "Epoch 39/100\n",
            "3/3 [==============================] - 0s 15ms/step - loss: 1.8351 - accuracy: 0.5000 - val_loss: 1.9432 - val_accuracy: 0.5000\n",
            "Epoch 40/100\n",
            "3/3 [==============================] - 0s 15ms/step - loss: 1.8203 - accuracy: 0.5000 - val_loss: 1.9256 - val_accuracy: 0.5000\n",
            "Epoch 41/100\n",
            "3/3 [==============================] - 0s 15ms/step - loss: 1.8070 - accuracy: 0.5000 - val_loss: 1.9078 - val_accuracy: 0.5000\n",
            "Epoch 42/100\n",
            "3/3 [==============================] - 0s 15ms/step - loss: 1.7925 - accuracy: 0.5000 - val_loss: 1.8900 - val_accuracy: 0.5000\n",
            "Epoch 43/100\n",
            "3/3 [==============================] - 0s 14ms/step - loss: 1.7785 - accuracy: 0.5000 - val_loss: 1.8719 - val_accuracy: 0.5000\n",
            "Epoch 44/100\n",
            "3/3 [==============================] - 0s 16ms/step - loss: 1.7642 - accuracy: 0.5000 - val_loss: 1.8539 - val_accuracy: 0.5000\n",
            "Epoch 45/100\n",
            "3/3 [==============================] - 0s 15ms/step - loss: 1.7517 - accuracy: 0.5000 - val_loss: 1.8355 - val_accuracy: 0.5000\n",
            "Epoch 46/100\n",
            "3/3 [==============================] - 0s 14ms/step - loss: 1.7370 - accuracy: 0.5000 - val_loss: 1.8176 - val_accuracy: 0.5000\n",
            "Epoch 47/100\n",
            "3/3 [==============================] - 0s 26ms/step - loss: 1.7224 - accuracy: 0.5000 - val_loss: 1.8001 - val_accuracy: 0.5000\n",
            "Epoch 48/100\n",
            "3/3 [==============================] - 0s 15ms/step - loss: 1.7101 - accuracy: 0.5000 - val_loss: 1.7822 - val_accuracy: 0.5000\n",
            "Epoch 49/100\n",
            "3/3 [==============================] - 0s 15ms/step - loss: 1.6959 - accuracy: 0.5000 - val_loss: 1.7651 - val_accuracy: 0.5000\n",
            "Epoch 50/100\n",
            "3/3 [==============================] - 0s 16ms/step - loss: 1.6824 - accuracy: 0.5000 - val_loss: 1.7483 - val_accuracy: 0.5000\n",
            "Epoch 51/100\n",
            "3/3 [==============================] - 0s 24ms/step - loss: 1.6700 - accuracy: 0.5000 - val_loss: 1.7316 - val_accuracy: 0.5000\n",
            "Epoch 52/100\n",
            "3/3 [==============================] - 0s 15ms/step - loss: 1.6577 - accuracy: 0.5000 - val_loss: 1.7151 - val_accuracy: 0.5000\n",
            "Epoch 53/100\n",
            "3/3 [==============================] - 0s 24ms/step - loss: 1.6446 - accuracy: 0.5000 - val_loss: 1.6992 - val_accuracy: 0.5000\n",
            "Epoch 54/100\n",
            "3/3 [==============================] - 0s 21ms/step - loss: 1.6315 - accuracy: 0.5000 - val_loss: 1.6837 - val_accuracy: 0.5000\n",
            "Epoch 55/100\n",
            "3/3 [==============================] - 0s 15ms/step - loss: 1.6195 - accuracy: 0.5000 - val_loss: 1.6683 - val_accuracy: 0.5000\n",
            "Epoch 56/100\n",
            "3/3 [==============================] - 0s 16ms/step - loss: 1.6084 - accuracy: 0.5000 - val_loss: 1.6529 - val_accuracy: 0.5000\n",
            "Epoch 57/100\n",
            "3/3 [==============================] - 0s 15ms/step - loss: 1.5951 - accuracy: 0.5000 - val_loss: 1.6381 - val_accuracy: 0.5000\n",
            "Epoch 58/100\n",
            "3/3 [==============================] - 0s 15ms/step - loss: 1.5833 - accuracy: 0.5000 - val_loss: 1.6232 - val_accuracy: 0.5000\n",
            "Epoch 59/100\n",
            "3/3 [==============================] - 0s 14ms/step - loss: 1.5723 - accuracy: 0.5000 - val_loss: 1.6081 - val_accuracy: 0.5000\n",
            "Epoch 60/100\n",
            "3/3 [==============================] - 0s 16ms/step - loss: 1.5596 - accuracy: 0.5000 - val_loss: 1.5935 - val_accuracy: 0.5000\n",
            "Epoch 61/100\n",
            "3/3 [==============================] - 0s 16ms/step - loss: 1.5487 - accuracy: 0.5000 - val_loss: 1.5787 - val_accuracy: 0.5000\n",
            "Epoch 62/100\n",
            "3/3 [==============================] - 0s 17ms/step - loss: 1.5370 - accuracy: 0.5000 - val_loss: 1.5641 - val_accuracy: 0.5000\n",
            "Epoch 63/100\n",
            "3/3 [==============================] - 0s 17ms/step - loss: 1.5251 - accuracy: 0.5000 - val_loss: 1.5498 - val_accuracy: 0.5000\n",
            "Epoch 64/100\n",
            "3/3 [==============================] - 0s 14ms/step - loss: 1.5141 - accuracy: 0.5000 - val_loss: 1.5354 - val_accuracy: 0.5000\n",
            "Epoch 65/100\n",
            "3/3 [==============================] - 0s 15ms/step - loss: 1.5035 - accuracy: 0.5000 - val_loss: 1.5212 - val_accuracy: 0.5000\n",
            "Epoch 66/100\n",
            "3/3 [==============================] - 0s 15ms/step - loss: 1.4921 - accuracy: 0.5000 - val_loss: 1.5076 - val_accuracy: 0.5000\n",
            "Epoch 67/100\n",
            "3/3 [==============================] - 0s 24ms/step - loss: 1.4807 - accuracy: 0.5000 - val_loss: 1.4943 - val_accuracy: 0.5000\n",
            "Epoch 68/100\n",
            "3/3 [==============================] - 0s 16ms/step - loss: 1.4702 - accuracy: 0.5000 - val_loss: 1.4808 - val_accuracy: 0.5000\n",
            "Epoch 69/100\n",
            "3/3 [==============================] - 0s 14ms/step - loss: 1.4592 - accuracy: 0.5000 - val_loss: 1.4675 - val_accuracy: 0.5000\n",
            "Epoch 70/100\n",
            "3/3 [==============================] - 0s 15ms/step - loss: 1.4489 - accuracy: 0.5000 - val_loss: 1.4542 - val_accuracy: 0.5000\n",
            "Epoch 71/100\n",
            "3/3 [==============================] - 0s 15ms/step - loss: 1.4382 - accuracy: 0.5000 - val_loss: 1.4410 - val_accuracy: 0.5000\n",
            "Epoch 72/100\n",
            "3/3 [==============================] - 0s 15ms/step - loss: 1.4280 - accuracy: 0.5000 - val_loss: 1.4277 - val_accuracy: 0.5000\n",
            "Epoch 73/100\n",
            "3/3 [==============================] - 0s 15ms/step - loss: 1.4174 - accuracy: 0.5000 - val_loss: 1.4147 - val_accuracy: 0.5000\n",
            "Epoch 74/100\n",
            "3/3 [==============================] - 0s 15ms/step - loss: 1.4067 - accuracy: 0.5000 - val_loss: 1.4022 - val_accuracy: 0.5000\n",
            "Epoch 75/100\n",
            "3/3 [==============================] - 0s 15ms/step - loss: 1.3969 - accuracy: 0.5000 - val_loss: 1.3897 - val_accuracy: 0.5000\n",
            "Epoch 76/100\n",
            "3/3 [==============================] - 0s 15ms/step - loss: 1.3865 - accuracy: 0.5000 - val_loss: 1.3775 - val_accuracy: 0.5000\n",
            "Epoch 77/100\n",
            "3/3 [==============================] - 0s 15ms/step - loss: 1.3772 - accuracy: 0.5000 - val_loss: 1.3650 - val_accuracy: 0.5000\n",
            "Epoch 78/100\n",
            "3/3 [==============================] - 0s 22ms/step - loss: 1.3671 - accuracy: 0.5000 - val_loss: 1.3527 - val_accuracy: 0.5000\n",
            "Epoch 79/100\n",
            "3/3 [==============================] - 0s 17ms/step - loss: 1.3569 - accuracy: 0.5000 - val_loss: 1.3405 - val_accuracy: 0.5000\n",
            "Epoch 80/100\n",
            "3/3 [==============================] - 0s 16ms/step - loss: 1.3479 - accuracy: 0.5000 - val_loss: 1.3283 - val_accuracy: 0.5000\n",
            "Epoch 81/100\n",
            "3/3 [==============================] - 0s 18ms/step - loss: 1.3377 - accuracy: 0.5000 - val_loss: 1.3167 - val_accuracy: 0.5000\n",
            "Epoch 82/100\n",
            "3/3 [==============================] - 0s 14ms/step - loss: 1.3278 - accuracy: 0.5000 - val_loss: 1.3053 - val_accuracy: 0.5000\n",
            "Epoch 83/100\n",
            "3/3 [==============================] - 0s 16ms/step - loss: 1.3195 - accuracy: 0.5000 - val_loss: 1.2936 - val_accuracy: 0.5000\n",
            "Epoch 84/100\n",
            "3/3 [==============================] - 0s 15ms/step - loss: 1.3101 - accuracy: 0.5000 - val_loss: 1.2822 - val_accuracy: 0.5000\n",
            "Epoch 85/100\n",
            "3/3 [==============================] - 0s 18ms/step - loss: 1.3003 - accuracy: 0.5000 - val_loss: 1.2713 - val_accuracy: 0.5000\n",
            "Epoch 86/100\n",
            "3/3 [==============================] - 0s 15ms/step - loss: 1.2916 - accuracy: 0.5000 - val_loss: 1.2603 - val_accuracy: 0.5000\n",
            "Epoch 87/100\n",
            "3/3 [==============================] - 0s 25ms/step - loss: 1.2828 - accuracy: 0.5000 - val_loss: 1.2497 - val_accuracy: 0.5000\n",
            "Epoch 88/100\n",
            "3/3 [==============================] - 0s 16ms/step - loss: 1.2738 - accuracy: 0.5000 - val_loss: 1.2393 - val_accuracy: 0.5000\n",
            "Epoch 89/100\n",
            "3/3 [==============================] - 0s 14ms/step - loss: 1.2658 - accuracy: 0.5000 - val_loss: 1.2285 - val_accuracy: 0.5000\n",
            "Epoch 90/100\n",
            "3/3 [==============================] - 0s 15ms/step - loss: 1.2570 - accuracy: 0.5000 - val_loss: 1.2179 - val_accuracy: 0.5000\n",
            "Epoch 91/100\n",
            "3/3 [==============================] - 0s 14ms/step - loss: 1.2486 - accuracy: 0.5000 - val_loss: 1.2072 - val_accuracy: 0.5000\n",
            "Epoch 92/100\n",
            "3/3 [==============================] - 0s 15ms/step - loss: 1.2399 - accuracy: 0.5000 - val_loss: 1.1968 - val_accuracy: 0.5000\n",
            "Epoch 93/100\n",
            "3/3 [==============================] - 0s 17ms/step - loss: 1.2319 - accuracy: 0.5000 - val_loss: 1.1867 - val_accuracy: 0.5000\n",
            "Epoch 94/100\n",
            "3/3 [==============================] - 0s 16ms/step - loss: 1.2236 - accuracy: 0.5000 - val_loss: 1.1770 - val_accuracy: 0.5000\n",
            "Epoch 95/100\n",
            "3/3 [==============================] - 0s 24ms/step - loss: 1.2156 - accuracy: 0.5000 - val_loss: 1.1675 - val_accuracy: 0.5000\n",
            "Epoch 96/100\n",
            "3/3 [==============================] - 0s 16ms/step - loss: 1.2082 - accuracy: 0.5000 - val_loss: 1.1591 - val_accuracy: 0.5000\n",
            "Epoch 97/100\n",
            "3/3 [==============================] - 0s 18ms/step - loss: 1.2007 - accuracy: 0.5000 - val_loss: 1.1508 - val_accuracy: 0.5000\n",
            "Epoch 98/100\n",
            "3/3 [==============================] - 0s 15ms/step - loss: 1.1930 - accuracy: 0.5000 - val_loss: 1.1428 - val_accuracy: 0.5000\n",
            "Epoch 99/100\n",
            "3/3 [==============================] - 0s 14ms/step - loss: 1.1859 - accuracy: 0.5000 - val_loss: 1.1347 - val_accuracy: 0.5000\n",
            "Epoch 100/100\n",
            "3/3 [==============================] - 0s 20ms/step - loss: 1.1783 - accuracy: 0.5000 - val_loss: 1.1268 - val_accuracy: 0.5000\n"
          ]
        },
        {
          "output_type": "execute_result",
          "data": {
            "text/plain": [
              "<keras.callbacks.History at 0x7f53c16bef10>"
            ]
          },
          "metadata": {},
          "execution_count": 166
        }
      ]
    },
    {
      "cell_type": "code",
      "source": [
        "from mlxtend.plotting import plot_decision_regions\n",
        "plot_decision_regions(X,y.astype('int'),clf=model2,legend=2)"
      ],
      "metadata": {
        "colab": {
          "base_uri": "https://localhost:8080/",
          "height": 283
        },
        "id": "QrFwZ43UQWAp",
        "outputId": "eef68955-1386-4a03-a34e-caab17b8b5c3"
      },
      "execution_count": 167,
      "outputs": [
        {
          "output_type": "execute_result",
          "data": {
            "text/plain": [
              "<matplotlib.axes._subplots.AxesSubplot at 0x7f53c1538fd0>"
            ]
          },
          "metadata": {},
          "execution_count": 167
        },
        {
          "output_type": "display_data",
          "data": {
            "text/plain": [
              "<Figure size 432x288 with 1 Axes>"
            ],
            "image/png": "[encoded data removed]"
          },
          "metadata": {
            "needs_background": "light"
          }
        }
      ]
    },
    {
      "cell_type": "code",
      "source": [
        "# as we can see that weight from the same input is same\n",
        "model2.get_weights()"
      ],
      "metadata": {
        "colab": {
          "base_uri": "https://localhost:8080/"
        },
        "id": "Dpnl9bWFQfzn",
        "outputId": "74be5765-8526-4af5-d1bb-ea61477c1c61"
      },
      "execution_count": 168,
      "outputs": [
        {
          "output_type": "execute_result",
          "data": {
            "text/plain": [
              "[array([[0.7844465, 0.7844465],\n",
              "        [1.2429137, 1.2429137]], dtype=float32),\n",
              " array([0.7442843, 0.7442843], dtype=float32),\n",
              " array([[0.78600144, 0.78600144],\n",
              "        [0.78600144, 0.78600144]], dtype=float32),\n",
              " array([0.72677577, 0.72677577], dtype=float32),\n",
              " array([[0.75159514],\n",
              "        [0.75159514]], dtype=float32),\n",
              " array([0.70891416], dtype=float32)]"
            ]
          },
          "metadata": {},
          "execution_count": 168
        }
      ]
    },
    {
      "cell_type": "markdown",
      "source": [
        "# Testing for the **tanh**"
      ],
      "metadata": {
        "id": "-MoAn9eaSY2Q"
      }
    },
    {
      "cell_type": "code",
      "source": [
        "#Testing for the tanh function\n",
        "model3=Sequential()\n",
        "model3.add(Dense(2,activation='tanh',input_dim=2))\n",
        "model3.add(Dense(2,activation='tanh'))\n",
        "model3.add(Dense(1,activation='sigmoid'))"
      ],
      "metadata": {
        "id": "fxNtoim-SbGi"
      },
      "execution_count": 169,
      "outputs": []
    },
    {
      "cell_type": "code",
      "source": [
        "\n",
        "model3.compile(loss='binary_crossentropy',optimizer='adam',metrics=['accuracy'])"
      ],
      "metadata": {
        "id": "tOxrwTCnSy2w"
      },
      "execution_count": 170,
      "outputs": []
    },
    {
      "cell_type": "code",
      "source": [
        "initial_weight3=model3.get_weights()\n",
        "print(len(initial_weight3))"
      ],
      "metadata": {
        "colab": {
          "base_uri": "https://localhost:8080/"
        },
        "id": "dKdB50TpSy5u",
        "outputId": "9d0281d7-61bd-48e8-fabd-89742a92d50c"
      },
      "execution_count": 171,
      "outputs": [
        {
          "output_type": "stream",
          "name": "stdout",
          "text": [
            "6\n"
          ]
        }
      ]
    },
    {
      "cell_type": "code",
      "source": [
        "\n",
        "initial_weight3[0]=np.ones(model3.get_weights()[0].shape)\n",
        "initial_weight3[1]=np.ones(model3.get_weights()[1].shape)\n",
        "initial_weight3[2]=np.ones(model3.get_weights()[2].shape)\n",
        "initial_weight3[3]=np.ones(model3.get_weights()[3].shape)\n",
        "initial_weight3[4]=np.ones(model3.get_weights()[4].shape)\n",
        "initial_weight3[5]=np.ones(model3.get_weights()[5].shape)"
      ],
      "metadata": {
        "id": "HiGbsQH5Sy8p"
      },
      "execution_count": 172,
      "outputs": []
    },
    {
      "cell_type": "code",
      "source": [
        "model3.set_weights(initial_weight3)"
      ],
      "metadata": {
        "id": "LaGW8WV3Sy_e"
      },
      "execution_count": 173,
      "outputs": []
    },
    {
      "cell_type": "code",
      "source": [
        "model3.fit(X,y,epochs=100,validation_split=0.2)"
      ],
      "metadata": {
        "colab": {
          "base_uri": "https://localhost:8080/"
        },
        "id": "TD43CuHFTMw2",
        "outputId": "46d061a8-51a9-4254-932a-e5913029ce53"
      },
      "execution_count": 174,
      "outputs": [
        {
          "output_type": "stream",
          "name": "stdout",
          "text": [
            "Epoch 1/100\n",
            "3/3 [==============================] - 1s 79ms/step - loss: 1.1547 - accuracy: 0.5750 - val_loss: 1.2277 - val_accuracy: 0.6000\n",
            "Epoch 2/100\n",
            "3/3 [==============================] - 0s 14ms/step - loss: 1.1494 - accuracy: 0.5750 - val_loss: 1.2237 - val_accuracy: 0.6000\n",
            "Epoch 3/100\n",
            "3/3 [==============================] - 0s 15ms/step - loss: 1.1443 - accuracy: 0.5750 - val_loss: 1.2196 - val_accuracy: 0.6000\n",
            "Epoch 4/100\n",
            "3/3 [==============================] - 0s 15ms/step - loss: 1.1401 - accuracy: 0.5750 - val_loss: 1.2154 - val_accuracy: 0.6000\n",
            "Epoch 5/100\n",
            "3/3 [==============================] - 0s 16ms/step - loss: 1.1351 - accuracy: 0.5750 - val_loss: 1.2112 - val_accuracy: 0.6000\n",
            "Epoch 6/100\n",
            "3/3 [==============================] - 0s 15ms/step - loss: 1.1305 - accuracy: 0.5750 - val_loss: 1.2071 - val_accuracy: 0.6000\n",
            "Epoch 7/100\n",
            "3/3 [==============================] - 0s 14ms/step - loss: 1.1257 - accuracy: 0.5750 - val_loss: 1.2030 - val_accuracy: 0.6000\n",
            "Epoch 8/100\n",
            "3/3 [==============================] - 0s 15ms/step - loss: 1.1210 - accuracy: 0.5750 - val_loss: 1.1989 - val_accuracy: 0.6000\n",
            "Epoch 9/100\n",
            "3/3 [==============================] - 0s 15ms/step - loss: 1.1160 - accuracy: 0.5750 - val_loss: 1.1949 - val_accuracy: 0.6000\n",
            "Epoch 10/100\n",
            "3/3 [==============================] - 0s 17ms/step - loss: 1.1119 - accuracy: 0.5750 - val_loss: 1.1908 - val_accuracy: 0.6000\n",
            "Epoch 11/100\n",
            "3/3 [==============================] - 0s 18ms/step - loss: 1.1065 - accuracy: 0.5750 - val_loss: 1.1869 - val_accuracy: 0.6000\n",
            "Epoch 12/100\n",
            "3/3 [==============================] - 0s 15ms/step - loss: 1.1026 - accuracy: 0.5750 - val_loss: 1.1828 - val_accuracy: 0.6000\n",
            "Epoch 13/100\n",
            "3/3 [==============================] - 0s 25ms/step - loss: 1.0978 - accuracy: 0.5750 - val_loss: 1.1788 - val_accuracy: 0.6000\n",
            "Epoch 14/100\n",
            "3/3 [==============================] - 0s 15ms/step - loss: 1.0927 - accuracy: 0.5750 - val_loss: 1.1748 - val_accuracy: 0.6000\n",
            "Epoch 15/100\n",
            "3/3 [==============================] - 0s 15ms/step - loss: 1.0883 - accuracy: 0.5750 - val_loss: 1.1707 - val_accuracy: 0.6000\n",
            "Epoch 16/100\n",
            "3/3 [==============================] - 0s 17ms/step - loss: 1.0835 - accuracy: 0.5750 - val_loss: 1.1666 - val_accuracy: 0.6000\n",
            "Epoch 17/100\n",
            "3/3 [==============================] - 0s 16ms/step - loss: 1.0790 - accuracy: 0.5750 - val_loss: 1.1626 - val_accuracy: 0.6000\n",
            "Epoch 18/100\n",
            "3/3 [==============================] - 0s 15ms/step - loss: 1.0741 - accuracy: 0.5875 - val_loss: 1.1585 - val_accuracy: 0.6000\n",
            "Epoch 19/100\n",
            "3/3 [==============================] - 0s 15ms/step - loss: 1.0699 - accuracy: 0.5875 - val_loss: 1.1543 - val_accuracy: 0.6000\n",
            "Epoch 20/100\n",
            "3/3 [==============================] - 0s 15ms/step - loss: 1.0653 - accuracy: 0.5875 - val_loss: 1.1503 - val_accuracy: 0.6000\n",
            "Epoch 21/100\n",
            "3/3 [==============================] - 0s 16ms/step - loss: 1.0607 - accuracy: 0.5875 - val_loss: 1.1463 - val_accuracy: 0.6000\n",
            "Epoch 22/100\n",
            "3/3 [==============================] - 0s 15ms/step - loss: 1.0562 - accuracy: 0.5875 - val_loss: 1.1423 - val_accuracy: 0.6000\n",
            "Epoch 23/100\n",
            "3/3 [==============================] - 0s 16ms/step - loss: 1.0523 - accuracy: 0.5875 - val_loss: 1.1383 - val_accuracy: 0.6000\n",
            "Epoch 24/100\n",
            "3/3 [==============================] - 0s 15ms/step - loss: 1.0476 - accuracy: 0.5875 - val_loss: 1.1345 - val_accuracy: 0.6000\n",
            "Epoch 25/100\n",
            "3/3 [==============================] - 0s 16ms/step - loss: 1.0434 - accuracy: 0.5875 - val_loss: 1.1308 - val_accuracy: 0.6000\n",
            "Epoch 26/100\n",
            "3/3 [==============================] - 0s 17ms/step - loss: 1.0393 - accuracy: 0.5875 - val_loss: 1.1270 - val_accuracy: 0.6000\n",
            "Epoch 27/100\n",
            "3/3 [==============================] - 0s 17ms/step - loss: 1.0349 - accuracy: 0.5875 - val_loss: 1.1233 - val_accuracy: 0.6000\n",
            "Epoch 28/100\n",
            "3/3 [==============================] - 0s 16ms/step - loss: 1.0309 - accuracy: 0.5875 - val_loss: 1.1195 - val_accuracy: 0.6000\n",
            "Epoch 29/100\n",
            "3/3 [==============================] - 0s 15ms/step - loss: 1.0270 - accuracy: 0.5875 - val_loss: 1.1157 - val_accuracy: 0.6000\n",
            "Epoch 30/100\n",
            "3/3 [==============================] - 0s 17ms/step - loss: 1.0229 - accuracy: 0.5875 - val_loss: 1.1119 - val_accuracy: 0.6000\n",
            "Epoch 31/100\n",
            "3/3 [==============================] - 0s 18ms/step - loss: 1.0190 - accuracy: 0.5875 - val_loss: 1.1081 - val_accuracy: 0.6000\n",
            "Epoch 32/100\n",
            "3/3 [==============================] - 0s 15ms/step - loss: 1.0146 - accuracy: 0.5875 - val_loss: 1.1045 - val_accuracy: 0.6000\n",
            "Epoch 33/100\n",
            "3/3 [==============================] - 0s 20ms/step - loss: 1.0110 - accuracy: 0.5875 - val_loss: 1.1008 - val_accuracy: 0.6000\n",
            "Epoch 34/100\n",
            "3/3 [==============================] - 0s 16ms/step - loss: 1.0072 - accuracy: 0.5875 - val_loss: 1.0971 - val_accuracy: 0.6000\n",
            "Epoch 35/100\n",
            "3/3 [==============================] - 0s 16ms/step - loss: 1.0031 - accuracy: 0.5875 - val_loss: 1.0936 - val_accuracy: 0.6000\n",
            "Epoch 36/100\n",
            "3/3 [==============================] - 0s 25ms/step - loss: 0.9994 - accuracy: 0.5875 - val_loss: 1.0900 - val_accuracy: 0.6000\n",
            "Epoch 37/100\n",
            "3/3 [==============================] - 0s 15ms/step - loss: 0.9957 - accuracy: 0.5875 - val_loss: 1.0865 - val_accuracy: 0.6000\n",
            "Epoch 38/100\n",
            "3/3 [==============================] - 0s 16ms/step - loss: 0.9923 - accuracy: 0.5875 - val_loss: 1.0829 - val_accuracy: 0.6000\n",
            "Epoch 39/100\n",
            "3/3 [==============================] - 0s 15ms/step - loss: 0.9881 - accuracy: 0.5875 - val_loss: 1.0795 - val_accuracy: 0.6000\n",
            "Epoch 40/100\n",
            "3/3 [==============================] - 0s 18ms/step - loss: 0.9846 - accuracy: 0.5875 - val_loss: 1.0760 - val_accuracy: 0.6000\n",
            "Epoch 41/100\n",
            "3/3 [==============================] - 0s 27ms/step - loss: 0.9809 - accuracy: 0.5875 - val_loss: 1.0724 - val_accuracy: 0.6000\n",
            "Epoch 42/100\n",
            "3/3 [==============================] - 0s 26ms/step - loss: 0.9776 - accuracy: 0.5875 - val_loss: 1.0687 - val_accuracy: 0.6000\n",
            "Epoch 43/100\n",
            "3/3 [==============================] - 0s 15ms/step - loss: 0.9735 - accuracy: 0.5875 - val_loss: 1.0652 - val_accuracy: 0.6000\n",
            "Epoch 44/100\n",
            "3/3 [==============================] - 0s 15ms/step - loss: 0.9699 - accuracy: 0.5875 - val_loss: 1.0616 - val_accuracy: 0.6000\n",
            "Epoch 45/100\n",
            "3/3 [==============================] - 0s 16ms/step - loss: 0.9665 - accuracy: 0.6000 - val_loss: 1.0581 - val_accuracy: 0.5500\n",
            "Epoch 46/100\n",
            "3/3 [==============================] - 0s 17ms/step - loss: 0.9627 - accuracy: 0.6000 - val_loss: 1.0546 - val_accuracy: 0.5500\n",
            "Epoch 47/100\n",
            "3/3 [==============================] - 0s 16ms/step - loss: 0.9593 - accuracy: 0.6000 - val_loss: 1.0511 - val_accuracy: 0.5500\n",
            "Epoch 48/100\n",
            "3/3 [==============================] - 0s 15ms/step - loss: 0.9561 - accuracy: 0.6000 - val_loss: 1.0476 - val_accuracy: 0.5500\n",
            "Epoch 49/100\n",
            "3/3 [==============================] - 0s 17ms/step - loss: 0.9522 - accuracy: 0.6000 - val_loss: 1.0444 - val_accuracy: 0.5500\n",
            "Epoch 50/100\n",
            "3/3 [==============================] - 0s 16ms/step - loss: 0.9490 - accuracy: 0.6000 - val_loss: 1.0411 - val_accuracy: 0.5500\n",
            "Epoch 51/100\n",
            "3/3 [==============================] - 0s 16ms/step - loss: 0.9458 - accuracy: 0.6000 - val_loss: 1.0378 - val_accuracy: 0.5500\n",
            "Epoch 52/100\n",
            "3/3 [==============================] - 0s 18ms/step - loss: 0.9426 - accuracy: 0.6000 - val_loss: 1.0346 - val_accuracy: 0.5500\n",
            "Epoch 53/100\n",
            "3/3 [==============================] - 0s 15ms/step - loss: 0.9394 - accuracy: 0.6125 - val_loss: 1.0313 - val_accuracy: 0.5500\n",
            "Epoch 54/100\n",
            "3/3 [==============================] - 0s 16ms/step - loss: 0.9363 - accuracy: 0.6125 - val_loss: 1.0281 - val_accuracy: 0.5500\n",
            "Epoch 55/100\n",
            "3/3 [==============================] - 0s 20ms/step - loss: 0.9329 - accuracy: 0.6125 - val_loss: 1.0250 - val_accuracy: 0.5500\n",
            "Epoch 56/100\n",
            "3/3 [==============================] - 0s 16ms/step - loss: 0.9300 - accuracy: 0.6125 - val_loss: 1.0218 - val_accuracy: 0.5500\n",
            "Epoch 57/100\n",
            "3/3 [==============================] - 0s 16ms/step - loss: 0.9269 - accuracy: 0.6125 - val_loss: 1.0187 - val_accuracy: 0.5500\n",
            "Epoch 58/100\n",
            "3/3 [==============================] - 0s 17ms/step - loss: 0.9235 - accuracy: 0.6250 - val_loss: 1.0157 - val_accuracy: 0.5500\n",
            "Epoch 59/100\n",
            "3/3 [==============================] - 0s 16ms/step - loss: 0.9210 - accuracy: 0.6250 - val_loss: 1.0126 - val_accuracy: 0.5500\n",
            "Epoch 60/100\n",
            "3/3 [==============================] - 0s 16ms/step - loss: 0.9179 - accuracy: 0.6250 - val_loss: 1.0096 - val_accuracy: 0.5500\n",
            "Epoch 61/100\n",
            "3/3 [==============================] - 0s 16ms/step - loss: 0.9148 - accuracy: 0.6250 - val_loss: 1.0065 - val_accuracy: 0.5500\n",
            "Epoch 62/100\n",
            "3/3 [==============================] - 0s 14ms/step - loss: 0.9119 - accuracy: 0.6250 - val_loss: 1.0035 - val_accuracy: 0.5500\n",
            "Epoch 63/100\n",
            "3/3 [==============================] - 0s 15ms/step - loss: 0.9091 - accuracy: 0.6250 - val_loss: 1.0004 - val_accuracy: 0.5500\n",
            "Epoch 64/100\n",
            "3/3 [==============================] - 0s 15ms/step - loss: 0.9060 - accuracy: 0.6250 - val_loss: 0.9975 - val_accuracy: 0.5500\n",
            "Epoch 65/100\n",
            "3/3 [==============================] - 0s 15ms/step - loss: 0.9033 - accuracy: 0.6250 - val_loss: 0.9946 - val_accuracy: 0.5500\n",
            "Epoch 66/100\n",
            "3/3 [==============================] - 0s 15ms/step - loss: 0.9004 - accuracy: 0.6250 - val_loss: 0.9918 - val_accuracy: 0.5500\n",
            "Epoch 67/100\n",
            "3/3 [==============================] - 0s 14ms/step - loss: 0.8980 - accuracy: 0.6250 - val_loss: 0.9889 - val_accuracy: 0.5500\n",
            "Epoch 68/100\n",
            "3/3 [==============================] - 0s 15ms/step - loss: 0.8953 - accuracy: 0.6250 - val_loss: 0.9861 - val_accuracy: 0.5500\n",
            "Epoch 69/100\n",
            "3/3 [==============================] - 0s 16ms/step - loss: 0.8925 - accuracy: 0.6250 - val_loss: 0.9834 - val_accuracy: 0.5500\n",
            "Epoch 70/100\n",
            "3/3 [==============================] - 0s 16ms/step - loss: 0.8902 - accuracy: 0.6250 - val_loss: 0.9807 - val_accuracy: 0.5500\n",
            "Epoch 71/100\n",
            "3/3 [==============================] - 0s 16ms/step - loss: 0.8872 - accuracy: 0.6250 - val_loss: 0.9780 - val_accuracy: 0.5500\n",
            "Epoch 72/100\n",
            "3/3 [==============================] - 0s 16ms/step - loss: 0.8848 - accuracy: 0.6250 - val_loss: 0.9753 - val_accuracy: 0.5500\n",
            "Epoch 73/100\n",
            "3/3 [==============================] - 0s 16ms/step - loss: 0.8824 - accuracy: 0.6250 - val_loss: 0.9727 - val_accuracy: 0.5500\n",
            "Epoch 74/100\n",
            "3/3 [==============================] - 0s 16ms/step - loss: 0.8797 - accuracy: 0.6250 - val_loss: 0.9701 - val_accuracy: 0.5500\n",
            "Epoch 75/100\n",
            "3/3 [==============================] - 0s 15ms/step - loss: 0.8774 - accuracy: 0.6250 - val_loss: 0.9675 - val_accuracy: 0.5500\n",
            "Epoch 76/100\n",
            "3/3 [==============================] - 0s 15ms/step - loss: 0.8748 - accuracy: 0.6250 - val_loss: 0.9649 - val_accuracy: 0.5500\n",
            "Epoch 77/100\n",
            "3/3 [==============================] - 0s 17ms/step - loss: 0.8725 - accuracy: 0.6250 - val_loss: 0.9623 - val_accuracy: 0.5500\n",
            "Epoch 78/100\n",
            "3/3 [==============================] - 0s 18ms/step - loss: 0.8701 - accuracy: 0.6250 - val_loss: 0.9597 - val_accuracy: 0.5500\n",
            "Epoch 79/100\n",
            "3/3 [==============================] - 0s 17ms/step - loss: 0.8677 - accuracy: 0.6500 - val_loss: 0.9571 - val_accuracy: 0.5500\n",
            "Epoch 80/100\n",
            "3/3 [==============================] - 0s 15ms/step - loss: 0.8652 - accuracy: 0.6500 - val_loss: 0.9546 - val_accuracy: 0.5500\n",
            "Epoch 81/100\n",
            "3/3 [==============================] - 0s 20ms/step - loss: 0.8630 - accuracy: 0.6500 - val_loss: 0.9521 - val_accuracy: 0.5500\n",
            "Epoch 82/100\n",
            "3/3 [==============================] - 0s 17ms/step - loss: 0.8607 - accuracy: 0.6500 - val_loss: 0.9497 - val_accuracy: 0.5500\n",
            "Epoch 83/100\n",
            "3/3 [==============================] - 0s 17ms/step - loss: 0.8582 - accuracy: 0.6500 - val_loss: 0.9473 - val_accuracy: 0.6000\n",
            "Epoch 84/100\n",
            "3/3 [==============================] - 0s 17ms/step - loss: 0.8560 - accuracy: 0.6500 - val_loss: 0.9449 - val_accuracy: 0.6000\n",
            "Epoch 85/100\n",
            "3/3 [==============================] - 0s 15ms/step - loss: 0.8539 - accuracy: 0.6500 - val_loss: 0.9425 - val_accuracy: 0.6000\n",
            "Epoch 86/100\n",
            "3/3 [==============================] - 0s 15ms/step - loss: 0.8518 - accuracy: 0.6500 - val_loss: 0.9402 - val_accuracy: 0.6000\n",
            "Epoch 87/100\n",
            "3/3 [==============================] - 0s 16ms/step - loss: 0.8493 - accuracy: 0.6375 - val_loss: 0.9378 - val_accuracy: 0.6000\n",
            "Epoch 88/100\n",
            "3/3 [==============================] - 0s 15ms/step - loss: 0.8474 - accuracy: 0.6375 - val_loss: 0.9355 - val_accuracy: 0.6000\n",
            "Epoch 89/100\n",
            "3/3 [==============================] - 0s 17ms/step - loss: 0.8454 - accuracy: 0.6375 - val_loss: 0.9332 - val_accuracy: 0.6000\n",
            "Epoch 90/100\n",
            "3/3 [==============================] - 0s 18ms/step - loss: 0.8432 - accuracy: 0.6375 - val_loss: 0.9311 - val_accuracy: 0.6000\n",
            "Epoch 91/100\n",
            "3/3 [==============================] - 0s 15ms/step - loss: 0.8411 - accuracy: 0.6375 - val_loss: 0.9289 - val_accuracy: 0.6000\n",
            "Epoch 92/100\n",
            "3/3 [==============================] - 0s 16ms/step - loss: 0.8392 - accuracy: 0.6375 - val_loss: 0.9267 - val_accuracy: 0.6000\n",
            "Epoch 93/100\n",
            "3/3 [==============================] - 0s 17ms/step - loss: 0.8371 - accuracy: 0.6375 - val_loss: 0.9246 - val_accuracy: 0.6000\n",
            "Epoch 94/100\n",
            "3/3 [==============================] - 0s 18ms/step - loss: 0.8351 - accuracy: 0.6375 - val_loss: 0.9224 - val_accuracy: 0.6000\n",
            "Epoch 95/100\n",
            "3/3 [==============================] - 0s 18ms/step - loss: 0.8331 - accuracy: 0.6500 - val_loss: 0.9202 - val_accuracy: 0.6000\n",
            "Epoch 96/100\n",
            "3/3 [==============================] - 0s 17ms/step - loss: 0.8310 - accuracy: 0.6500 - val_loss: 0.9180 - val_accuracy: 0.6000\n",
            "Epoch 97/100\n",
            "3/3 [==============================] - 0s 17ms/step - loss: 0.8295 - accuracy: 0.6500 - val_loss: 0.9157 - val_accuracy: 0.6000\n",
            "Epoch 98/100\n",
            "3/3 [==============================] - 0s 15ms/step - loss: 0.8272 - accuracy: 0.6500 - val_loss: 0.9135 - val_accuracy: 0.6000\n",
            "Epoch 99/100\n",
            "3/3 [==============================] - 0s 17ms/step - loss: 0.8253 - accuracy: 0.6500 - val_loss: 0.9115 - val_accuracy: 0.6000\n",
            "Epoch 100/100\n",
            "3/3 [==============================] - 0s 16ms/step - loss: 0.8235 - accuracy: 0.6500 - val_loss: 0.9094 - val_accuracy: 0.6000\n"
          ]
        },
        {
          "output_type": "execute_result",
          "data": {
            "text/plain": [
              "<keras.callbacks.History at 0x7f53c14d8f10>"
            ]
          },
          "metadata": {},
          "execution_count": 174
        }
      ]
    },
    {
      "cell_type": "code",
      "source": [
        "from mlxtend.plotting import plot_decision_regions\n",
        "plot_decision_regions(X,y.astype('int'),clf=model3,legend=2)"
      ],
      "metadata": {
        "colab": {
          "base_uri": "https://localhost:8080/",
          "height": 283
        },
        "id": "_mqmKQDNTQys",
        "outputId": "97df3952-d4f1-487b-9ff2-d23dad885031"
      },
      "execution_count": 175,
      "outputs": [
        {
          "output_type": "execute_result",
          "data": {
            "text/plain": [
              "<matplotlib.axes._subplots.AxesSubplot at 0x7f53b9304e10>"
            ]
          },
          "metadata": {},
          "execution_count": 175
        },
        {
          "output_type": "display_data",
          "data": {
            "text/plain": [
              "<Figure size 432x288 with 1 Axes>"
            ],
            "image/png": "[encoded data removed]"
          },
          "metadata": {
            "needs_background": "light"
          }
        }
      ]
    },
    {
      "cell_type": "code",
      "source": [
        "# as we can see that weight from the same input is same so it can work only as linear classification\n",
        "model3.get_weights()"
      ],
      "metadata": {
        "colab": {
          "base_uri": "https://localhost:8080/"
        },
        "id": "V66mzlocTWu4",
        "outputId": "bdb116a2-3693-482f-c465-66ddf2950915"
      },
      "execution_count": 176,
      "outputs": [
        {
          "output_type": "execute_result",
          "data": {
            "text/plain": [
              "[array([[1.2143077, 1.2143077],\n",
              "        [1.1908689, 1.1908689]], dtype=float32),\n",
              " array([0.76310766, 0.76310766], dtype=float32),\n",
              " array([[1.1963605, 1.1963605],\n",
              "        [1.1963605, 1.1963605]], dtype=float32),\n",
              " array([0.7698545, 0.7698545], dtype=float32),\n",
              " array([[0.75374806],\n",
              "        [0.75374806]], dtype=float32),\n",
              " array([0.7310115], dtype=float32)]"
            ]
          },
          "metadata": {},
          "execution_count": 176
        }
      ]
    },
    {
      "cell_type": "code",
      "source": [],
      "metadata": {
        "id": "fQdIt0acTkFo"
      },
      "execution_count": 176,
      "outputs": []
    }
  ]
}