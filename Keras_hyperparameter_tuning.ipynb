{
  "nbformat": 4,
  "nbformat_minor": 0,
  "metadata": {
    "colab": {
      "provenance": []
    },
    "kernelspec": {
      "name": "python3",
      "display_name": "Python 3"
    },
    "language_info": {
      "name": "python"
    },
    "accelerator": "TPU"
  },
  "cells": [
    {
      "cell_type": "code",
      "execution_count": 133,
      "metadata": {
        "id": "GL8idP6o0Wzu"
      },
      "outputs": [],
      "source": [
        "import numpy as numpy\n",
        "import pandas as pd\n",
        "import tensorflow\n",
        "from tensorflow import keras\n",
        "from keras.layers import Dense,Dropout\n",
        "from keras import Sequential\n",
        "from sklearn.model_selection import train_test_split\n",
        "import seaborn as sns\n",
        "import matplotlib.pyplot as plt\n",
        "from sklearn.metrics import "
      ]
    },
    {
      "cell_type": "code",
      "source": [
        "df=pd.read_csv(\"/content/diabetes.csv\")"
      ],
      "metadata": {
        "id": "josyuU252S3I"
      },
      "execution_count": 134,
      "outputs": []
    },
    {
      "cell_type": "code",
      "source": [
        "df.sample(5)"
      ],
      "metadata": {
        "colab": {
          "base_uri": "https://localhost:8080/",
          "height": 206
        },
        "id": "vbF6bk-F2k53",
        "outputId": "b3407e1d-4de1-43e1-daf0-c27d3154c735"
      },
      "execution_count": 135,
      "outputs": [
        {
          "output_type": "execute_result",
          "data": {
            "text/plain": [
              "     Pregnancies  Glucose  BloodPressure  SkinThickness  Insulin   BMI  \\\n",
              "44             7      159             64              0        0  27.4   \n",
              "573            2       98             60             17      120  34.7   \n",
              "256            3      111             56             39        0  30.1   \n",
              "170            6      102             82              0        0  30.8   \n",
              "480            3      158             70             30      328  35.5   \n",
              "\n",
              "     DiabetesPedigreeFunction  Age  Outcome  \n",
              "44                      0.294   40        0  \n",
              "573                     0.198   22        0  \n",
              "256                     0.557   30        0  \n",
              "170                     0.180   36        1  \n",
              "480                     0.344   35        1  "
            ],
            "text/html": [
              "\n",
              "  <div id=\"df-b7498650-e055-4956-9ca8-15f260dc12a1\">\n",
              "    <div class=\"colab-df-container\">\n",
              "      <div>\n",
              "<style scoped>\n",
              "    .dataframe tbody tr th:only-of-type {\n",
              "        vertical-align: middle;\n",
              "    }\n",
              "\n",
              "    .dataframe tbody tr th {\n",
              "        vertical-align: top;\n",
              "    }\n",
              "\n",
              "    .dataframe thead th {\n",
              "        text-align: right;\n",
              "    }\n",
              "</style>\n",
              "<table border=\"1\" class=\"dataframe\">\n",
              "  <thead>\n",
              "    <tr style=\"text-align: right;\">\n",
              "      <th></th>\n",
              "      <th>Pregnancies</th>\n",
              "      <th>Glucose</th>\n",
              "      <th>BloodPressure</th>\n",
              "      <th>SkinThickness</th>\n",
              "      <th>Insulin</th>\n",
              "      <th>BMI</th>\n",
              "      <th>DiabetesPedigreeFunction</th>\n",
              "      <th>Age</th>\n",
              "      <th>Outcome</th>\n",
              "    </tr>\n",
              "  </thead>\n",
              "  <tbody>\n",
              "    <tr>\n",
              "      <th>44</th>\n",
              "      <td>7</td>\n",
              "      <td>159</td>\n",
              "      <td>64</td>\n",
              "      <td>0</td>\n",
              "      <td>0</td>\n",
              "      <td>27.4</td>\n",
              "      <td>0.294</td>\n",
              "      <td>40</td>\n",
              "      <td>0</td>\n",
              "    </tr>\n",
              "    <tr>\n",
              "      <th>573</th>\n",
              "      <td>2</td>\n",
              "      <td>98</td>\n",
              "      <td>60</td>\n",
              "      <td>17</td>\n",
              "      <td>120</td>\n",
              "      <td>34.7</td>\n",
              "      <td>0.198</td>\n",
              "      <td>22</td>\n",
              "      <td>0</td>\n",
              "    </tr>\n",
              "    <tr>\n",
              "      <th>256</th>\n",
              "      <td>3</td>\n",
              "      <td>111</td>\n",
              "      <td>56</td>\n",
              "      <td>39</td>\n",
              "      <td>0</td>\n",
              "      <td>30.1</td>\n",
              "      <td>0.557</td>\n",
              "      <td>30</td>\n",
              "      <td>0</td>\n",
              "    </tr>\n",
              "    <tr>\n",
              "      <th>170</th>\n",
              "      <td>6</td>\n",
              "      <td>102</td>\n",
              "      <td>82</td>\n",
              "      <td>0</td>\n",
              "      <td>0</td>\n",
              "      <td>30.8</td>\n",
              "      <td>0.180</td>\n",
              "      <td>36</td>\n",
              "      <td>1</td>\n",
              "    </tr>\n",
              "    <tr>\n",
              "      <th>480</th>\n",
              "      <td>3</td>\n",
              "      <td>158</td>\n",
              "      <td>70</td>\n",
              "      <td>30</td>\n",
              "      <td>328</td>\n",
              "      <td>35.5</td>\n",
              "      <td>0.344</td>\n",
              "      <td>35</td>\n",
              "      <td>1</td>\n",
              "    </tr>\n",
              "  </tbody>\n",
              "</table>\n",
              "</div>\n",
              "      <button class=\"colab-df-convert\" onclick=\"convertToInteractive('df-b7498650-e055-4956-9ca8-15f260dc12a1')\"\n",
              "              title=\"Convert this dataframe to an interactive table.\"\n",
              "              style=\"display:none;\">\n",
              "        \n",
              "  <svg xmlns=\"http://www.w3.org/2000/svg\" height=\"24px\"viewBox=\"0 0 24 24\"\n",
              "       width=\"24px\">\n",
              "    <path d=\"M0 0h24v24H0V0z\" fill=\"none\"/>\n",
              "    <path d=\"M18.56 5.44l.94 2.06.94-2.06 2.06-.94-2.06-.94-.94-2.06-.94 2.06-2.06.94zm-11 1L8.5 8.5l.94-2.06 2.06-.94-2.06-.94L8.5 2.5l-.94 2.06-2.06.94zm10 10l.94 2.06.94-2.06 2.06-.94-2.06-.94-.94-2.06-.94 2.06-2.06.94z\"/><path d=\"M17.41 7.96l-1.37-1.37c-.4-.4-.92-.59-1.43-.59-.52 0-1.04.2-1.43.59L10.3 9.45l-7.72 7.72c-.78.78-.78 2.05 0 2.83L4 21.41c.39.39.9.59 1.41.59.51 0 1.02-.2 1.41-.59l7.78-7.78 2.81-2.81c.8-.78.8-2.07 0-2.86zM5.41 20L4 18.59l7.72-7.72 1.47 1.35L5.41 20z\"/>\n",
              "  </svg>\n",
              "      </button>\n",
              "      \n",
              "  <style>\n",
              "    .colab-df-container {\n",
              "      display:flex;\n",
              "      flex-wrap:wrap;\n",
              "      gap: 12px;\n",
              "    }\n",
              "\n",
              "    .colab-df-convert {\n",
              "      background-color: #E8F0FE;\n",
              "      border: none;\n",
              "      border-radius: 50%;\n",
              "      cursor: pointer;\n",
              "      display: none;\n",
              "      fill: #1967D2;\n",
              "      height: 32px;\n",
              "      padding: 0 0 0 0;\n",
              "      width: 32px;\n",
              "    }\n",
              "\n",
              "    .colab-df-convert:hover {\n",
              "      background-color: #E2EBFA;\n",
              "      box-shadow: 0px 1px 2px rgba(60, 64, 67, 0.3), 0px 1px 3px 1px rgba(60, 64, 67, 0.15);\n",
              "      fill: #174EA6;\n",
              "    }\n",
              "\n",
              "    [theme=dark] .colab-df-convert {\n",
              "      background-color: #3B4455;\n",
              "      fill: #D2E3FC;\n",
              "    }\n",
              "\n",
              "    [theme=dark] .colab-df-convert:hover {\n",
              "      background-color: #434B5C;\n",
              "      box-shadow: 0px 1px 3px 1px rgba(0, 0, 0, 0.15);\n",
              "      filter: drop-shadow(0px 1px 2px rgba(0, 0, 0, 0.3));\n",
              "      fill: #FFFFFF;\n",
              "    }\n",
              "  </style>\n",
              "\n",
              "      <script>\n",
              "        const buttonEl =\n",
              "          document.querySelector('#df-b7498650-e055-4956-9ca8-15f260dc12a1 button.colab-df-convert');\n",
              "        buttonEl.style.display =\n",
              "          google.colab.kernel.accessAllowed ? 'block' : 'none';\n",
              "\n",
              "        async function convertToInteractive(key) {\n",
              "          const element = document.querySelector('#df-b7498650-e055-4956-9ca8-15f260dc12a1');\n",
              "          const dataTable =\n",
              "            await google.colab.kernel.invokeFunction('convertToInteractive',\n",
              "                                                     [key], {});\n",
              "          if (!dataTable) return;\n",
              "\n",
              "          const docLinkHtml = 'Like what you see? Visit the ' +\n",
              "            '<a target=\"_blank\" href=https://colab.research.google.com/notebooks/data_table.ipynb>data table notebook</a>'\n",
              "            + ' to learn more about interactive tables.';\n",
              "          element.innerHTML = '';\n",
              "          dataTable['output_type'] = 'display_data';\n",
              "          await google.colab.output.renderOutput(dataTable, element);\n",
              "          const docLink = document.createElement('div');\n",
              "          docLink.innerHTML = docLinkHtml;\n",
              "          element.appendChild(docLink);\n",
              "        }\n",
              "      </script>\n",
              "    </div>\n",
              "  </div>\n",
              "  "
            ]
          },
          "metadata": {},
          "execution_count": 135
        }
      ]
    },
    {
      "cell_type": "code",
      "source": [
        "X=df.iloc[:,0:8]"
      ],
      "metadata": {
        "id": "U5Y_1DPO22V9"
      },
      "execution_count": 136,
      "outputs": []
    },
    {
      "cell_type": "code",
      "source": [
        "X.shape"
      ],
      "metadata": {
        "colab": {
          "base_uri": "https://localhost:8080/"
        },
        "id": "8u_mPocz3iIU",
        "outputId": "910eb27e-8799-4c85-a3aa-258ba485bf6b"
      },
      "execution_count": 137,
      "outputs": [
        {
          "output_type": "execute_result",
          "data": {
            "text/plain": [
              "(768, 8)"
            ]
          },
          "metadata": {},
          "execution_count": 137
        }
      ]
    },
    {
      "cell_type": "code",
      "source": [
        "y=df.iloc[:,-1]"
      ],
      "metadata": {
        "id": "4VQ-HaZV3ppU"
      },
      "execution_count": 138,
      "outputs": []
    },
    {
      "cell_type": "code",
      "source": [
        "y.shape"
      ],
      "metadata": {
        "colab": {
          "base_uri": "https://localhost:8080/"
        },
        "id": "q7O926hB3-wl",
        "outputId": "062f49a0-9ccb-4fe6-8ab1-45da861b8815"
      },
      "execution_count": 139,
      "outputs": [
        {
          "output_type": "execute_result",
          "data": {
            "text/plain": [
              "(768,)"
            ]
          },
          "metadata": {},
          "execution_count": 139
        }
      ]
    },
    {
      "cell_type": "code",
      "source": [
        "X_train,X_test,y_train,y_test=train_test_split(X,y)"
      ],
      "metadata": {
        "id": "lJ5-4KFi2mbU"
      },
      "execution_count": 140,
      "outputs": []
    },
    {
      "cell_type": "code",
      "source": [],
      "metadata": {
        "id": "w4E1NyYx8XJw"
      },
      "execution_count": 140,
      "outputs": []
    },
    {
      "cell_type": "code",
      "source": [
        "X_train.shape,X_test.shape,y_train.shape,y_test.shape"
      ],
      "metadata": {
        "colab": {
          "base_uri": "https://localhost:8080/"
        },
        "id": "MQ8LSkYl4Dmk",
        "outputId": "bf184199-db0d-4f09-db2f-c261587383b5"
      },
      "execution_count": 141,
      "outputs": [
        {
          "output_type": "execute_result",
          "data": {
            "text/plain": [
              "((576, 8), (192, 8), (576,), (192,))"
            ]
          },
          "metadata": {},
          "execution_count": 141
        }
      ]
    },
    {
      "cell_type": "code",
      "source": [
        "  df.corr()['Outcome']"
      ],
      "metadata": {
        "colab": {
          "base_uri": "https://localhost:8080/"
        },
        "id": "4MYJNF9D4KeK",
        "outputId": "82c8d358-8522-4526-b81e-955aa1b68f86"
      },
      "execution_count": 142,
      "outputs": [
        {
          "output_type": "execute_result",
          "data": {
            "text/plain": [
              "Pregnancies                 0.221898\n",
              "Glucose                     0.466581\n",
              "BloodPressure               0.065068\n",
              "SkinThickness               0.074752\n",
              "Insulin                     0.130548\n",
              "BMI                         0.292695\n",
              "DiabetesPedigreeFunction    0.173844\n",
              "Age                         0.238356\n",
              "Outcome                     1.000000\n",
              "Name: Outcome, dtype: float64"
            ]
          },
          "metadata": {},
          "execution_count": 142
        }
      ]
    },
    {
      "cell_type": "code",
      "source": [
        "from sklearn.preprocessing import StandardScaler\n",
        "scaler=StandardScaler()"
      ],
      "metadata": {
        "id": "x0xVVpuP6VIT"
      },
      "execution_count": 143,
      "outputs": []
    },
    {
      "cell_type": "code",
      "source": [
        "X_train=scaler.fit_transform(X_train)\n",
        "X_test=scaler.transform(X_test)"
      ],
      "metadata": {
        "id": "DZE1Ljfu8ET5"
      },
      "execution_count": 144,
      "outputs": []
    },
    {
      "cell_type": "code",
      "source": [
        "type(X_train)"
      ],
      "metadata": {
        "colab": {
          "base_uri": "https://localhost:8080/"
        },
        "id": "58rVqzG-8p8T",
        "outputId": "d0ca5a75-fa35-4a6a-d146-6e34fdbf2251"
      },
      "execution_count": 145,
      "outputs": [
        {
          "output_type": "execute_result",
          "data": {
            "text/plain": [
              "numpy.ndarray"
            ]
          },
          "metadata": {},
          "execution_count": 145
        }
      ]
    },
    {
      "cell_type": "code",
      "source": [
        "df.isnull().sum()"
      ],
      "metadata": {
        "colab": {
          "base_uri": "https://localhost:8080/"
        },
        "id": "WFR79Ulk9CLA",
        "outputId": "bae06090-9fec-40a9-f906-839e227c7c89"
      },
      "execution_count": 146,
      "outputs": [
        {
          "output_type": "execute_result",
          "data": {
            "text/plain": [
              "Pregnancies                 0\n",
              "Glucose                     0\n",
              "BloodPressure               0\n",
              "SkinThickness               0\n",
              "Insulin                     0\n",
              "BMI                         0\n",
              "DiabetesPedigreeFunction    0\n",
              "Age                         0\n",
              "Outcome                     0\n",
              "dtype: int64"
            ]
          },
          "metadata": {},
          "execution_count": 146
        }
      ]
    },
    {
      "cell_type": "code",
      "source": [
        "df.info()"
      ],
      "metadata": {
        "colab": {
          "base_uri": "https://localhost:8080/"
        },
        "id": "klRlMWyQ9PVt",
        "outputId": "3b7d9fc7-876c-4c9a-bb99-a9b260d82d57"
      },
      "execution_count": 147,
      "outputs": [
        {
          "output_type": "stream",
          "name": "stdout",
          "text": [
            "<class 'pandas.core.frame.DataFrame'>\n",
            "RangeIndex: 768 entries, 0 to 767\n",
            "Data columns (total 9 columns):\n",
            " #   Column                    Non-Null Count  Dtype  \n",
            "---  ------                    --------------  -----  \n",
            " 0   Pregnancies               768 non-null    int64  \n",
            " 1   Glucose                   768 non-null    int64  \n",
            " 2   BloodPressure             768 non-null    int64  \n",
            " 3   SkinThickness             768 non-null    int64  \n",
            " 4   Insulin                   768 non-null    int64  \n",
            " 5   BMI                       768 non-null    float64\n",
            " 6   DiabetesPedigreeFunction  768 non-null    float64\n",
            " 7   Age                       768 non-null    int64  \n",
            " 8   Outcome                   768 non-null    int64  \n",
            "dtypes: float64(2), int64(7)\n",
            "memory usage: 54.1 KB\n"
          ]
        }
      ]
    },
    {
      "cell_type": "code",
      "source": [
        "df.duplicated().sum()"
      ],
      "metadata": {
        "colab": {
          "base_uri": "https://localhost:8080/"
        },
        "id": "CyoaGCN7947r",
        "outputId": "1fbd043c-116f-40ae-d16c-32a051231987"
      },
      "execution_count": 148,
      "outputs": [
        {
          "output_type": "execute_result",
          "data": {
            "text/plain": [
              "0"
            ]
          },
          "metadata": {},
          "execution_count": 148
        }
      ]
    },
    {
      "cell_type": "code",
      "source": [
        "df['Outcome'].value_counts()"
      ],
      "metadata": {
        "colab": {
          "base_uri": "https://localhost:8080/"
        },
        "id": "5oTbLWW3-A2p",
        "outputId": "009dbea0-f498-43be-f46f-a89af1784234"
      },
      "execution_count": 149,
      "outputs": [
        {
          "output_type": "execute_result",
          "data": {
            "text/plain": [
              "0    500\n",
              "1    268\n",
              "Name: Outcome, dtype: int64"
            ]
          },
          "metadata": {},
          "execution_count": 149
        }
      ]
    },
    {
      "cell_type": "code",
      "source": [
        "model=Sequential()\n",
        "model.add(Dense(32,input_dim=8,activation='relu'))\n",
        "\n",
        "model.add(Dense(1,activation='sigmoid'))"
      ],
      "metadata": {
        "id": "plvY08_y-O3l"
      },
      "execution_count": 150,
      "outputs": []
    },
    {
      "cell_type": "code",
      "source": [
        "model.compile(loss='binary_crossentropy',optimizer='adam',metrics=['accuracy'])"
      ],
      "metadata": {
        "id": "OsfkzHmpDzid"
      },
      "execution_count": 151,
      "outputs": []
    },
    {
      "cell_type": "code",
      "source": [
        "history=model.fit(X_train,y_train,epochs=100,validation_data=(X_test,y_test),batch_size=30)"
      ],
      "metadata": {
        "colab": {
          "base_uri": "https://localhost:8080/"
        },
        "id": "mycu0fMgEq6p",
        "outputId": "da476e31-2b7d-4a4a-8073-ee2167163a23"
      },
      "execution_count": 152,
      "outputs": [
        {
          "output_type": "stream",
          "name": "stdout",
          "text": [
            "Epoch 1/100\n",
            "20/20 [==============================] - 1s 12ms/step - loss: 0.7347 - accuracy: 0.4618 - val_loss: 0.7231 - val_accuracy: 0.5365\n",
            "Epoch 2/100\n",
            "20/20 [==============================] - 0s 4ms/step - loss: 0.6592 - accuracy: 0.6181 - val_loss: 0.6629 - val_accuracy: 0.6615\n",
            "Epoch 3/100\n",
            "20/20 [==============================] - 0s 4ms/step - loss: 0.6059 - accuracy: 0.7135 - val_loss: 0.6186 - val_accuracy: 0.7135\n",
            "Epoch 4/100\n",
            "20/20 [==============================] - 0s 3ms/step - loss: 0.5675 - accuracy: 0.7465 - val_loss: 0.5895 - val_accuracy: 0.7552\n",
            "Epoch 5/100\n",
            "20/20 [==============================] - 0s 4ms/step - loss: 0.5388 - accuracy: 0.7622 - val_loss: 0.5668 - val_accuracy: 0.7500\n",
            "Epoch 6/100\n",
            "20/20 [==============================] - 0s 3ms/step - loss: 0.5186 - accuracy: 0.7639 - val_loss: 0.5501 - val_accuracy: 0.7552\n",
            "Epoch 7/100\n",
            "20/20 [==============================] - 0s 3ms/step - loss: 0.5028 - accuracy: 0.7691 - val_loss: 0.5389 - val_accuracy: 0.7552\n",
            "Epoch 8/100\n",
            "20/20 [==============================] - 0s 4ms/step - loss: 0.4912 - accuracy: 0.7726 - val_loss: 0.5290 - val_accuracy: 0.7552\n",
            "Epoch 9/100\n",
            "20/20 [==============================] - 0s 3ms/step - loss: 0.4815 - accuracy: 0.7812 - val_loss: 0.5237 - val_accuracy: 0.7552\n",
            "Epoch 10/100\n",
            "20/20 [==============================] - 0s 3ms/step - loss: 0.4750 - accuracy: 0.7795 - val_loss: 0.5186 - val_accuracy: 0.7604\n",
            "Epoch 11/100\n",
            "20/20 [==============================] - 0s 3ms/step - loss: 0.4690 - accuracy: 0.7847 - val_loss: 0.5157 - val_accuracy: 0.7448\n",
            "Epoch 12/100\n",
            "20/20 [==============================] - 0s 4ms/step - loss: 0.4641 - accuracy: 0.7899 - val_loss: 0.5115 - val_accuracy: 0.7708\n",
            "Epoch 13/100\n",
            "20/20 [==============================] - 0s 3ms/step - loss: 0.4601 - accuracy: 0.7899 - val_loss: 0.5100 - val_accuracy: 0.7656\n",
            "Epoch 14/100\n",
            "20/20 [==============================] - 0s 4ms/step - loss: 0.4566 - accuracy: 0.7865 - val_loss: 0.5090 - val_accuracy: 0.7708\n",
            "Epoch 15/100\n",
            "20/20 [==============================] - 0s 4ms/step - loss: 0.4540 - accuracy: 0.7847 - val_loss: 0.5087 - val_accuracy: 0.7812\n",
            "Epoch 16/100\n",
            "20/20 [==============================] - 0s 4ms/step - loss: 0.4517 - accuracy: 0.7865 - val_loss: 0.5075 - val_accuracy: 0.7812\n",
            "Epoch 17/100\n",
            "20/20 [==============================] - 0s 4ms/step - loss: 0.4497 - accuracy: 0.7882 - val_loss: 0.5080 - val_accuracy: 0.7760\n",
            "Epoch 18/100\n",
            "20/20 [==============================] - 0s 4ms/step - loss: 0.4474 - accuracy: 0.7882 - val_loss: 0.5082 - val_accuracy: 0.7812\n",
            "Epoch 19/100\n",
            "20/20 [==============================] - 0s 4ms/step - loss: 0.4460 - accuracy: 0.7830 - val_loss: 0.5062 - val_accuracy: 0.7812\n",
            "Epoch 20/100\n",
            "20/20 [==============================] - 0s 3ms/step - loss: 0.4446 - accuracy: 0.7865 - val_loss: 0.5060 - val_accuracy: 0.7865\n",
            "Epoch 21/100\n",
            "20/20 [==============================] - 0s 3ms/step - loss: 0.4432 - accuracy: 0.7882 - val_loss: 0.5063 - val_accuracy: 0.7865\n",
            "Epoch 22/100\n",
            "20/20 [==============================] - 0s 4ms/step - loss: 0.4415 - accuracy: 0.7917 - val_loss: 0.5040 - val_accuracy: 0.7865\n",
            "Epoch 23/100\n",
            "20/20 [==============================] - 0s 3ms/step - loss: 0.4407 - accuracy: 0.7882 - val_loss: 0.5037 - val_accuracy: 0.7865\n",
            "Epoch 24/100\n",
            "20/20 [==============================] - 0s 3ms/step - loss: 0.4396 - accuracy: 0.7865 - val_loss: 0.5067 - val_accuracy: 0.7865\n",
            "Epoch 25/100\n",
            "20/20 [==============================] - 0s 4ms/step - loss: 0.4384 - accuracy: 0.7882 - val_loss: 0.5062 - val_accuracy: 0.7865\n",
            "Epoch 26/100\n",
            "20/20 [==============================] - 0s 7ms/step - loss: 0.4375 - accuracy: 0.7899 - val_loss: 0.5054 - val_accuracy: 0.7865\n",
            "Epoch 27/100\n",
            "20/20 [==============================] - 0s 6ms/step - loss: 0.4364 - accuracy: 0.7917 - val_loss: 0.5048 - val_accuracy: 0.7865\n",
            "Epoch 28/100\n",
            "20/20 [==============================] - 0s 5ms/step - loss: 0.4356 - accuracy: 0.7917 - val_loss: 0.5020 - val_accuracy: 0.7865\n",
            "Epoch 29/100\n",
            "20/20 [==============================] - 0s 4ms/step - loss: 0.4348 - accuracy: 0.7934 - val_loss: 0.5028 - val_accuracy: 0.7865\n",
            "Epoch 30/100\n",
            "20/20 [==============================] - 0s 3ms/step - loss: 0.4343 - accuracy: 0.7934 - val_loss: 0.5031 - val_accuracy: 0.7865\n",
            "Epoch 31/100\n",
            "20/20 [==============================] - 0s 3ms/step - loss: 0.4335 - accuracy: 0.7934 - val_loss: 0.5027 - val_accuracy: 0.7865\n",
            "Epoch 32/100\n",
            "20/20 [==============================] - 0s 3ms/step - loss: 0.4325 - accuracy: 0.7917 - val_loss: 0.5023 - val_accuracy: 0.7865\n",
            "Epoch 33/100\n",
            "20/20 [==============================] - 0s 4ms/step - loss: 0.4321 - accuracy: 0.7917 - val_loss: 0.5021 - val_accuracy: 0.7865\n",
            "Epoch 34/100\n",
            "20/20 [==============================] - 0s 4ms/step - loss: 0.4312 - accuracy: 0.7934 - val_loss: 0.5030 - val_accuracy: 0.7865\n",
            "Epoch 35/100\n",
            "20/20 [==============================] - 0s 3ms/step - loss: 0.4310 - accuracy: 0.7882 - val_loss: 0.5041 - val_accuracy: 0.7812\n",
            "Epoch 36/100\n",
            "20/20 [==============================] - 0s 3ms/step - loss: 0.4298 - accuracy: 0.7917 - val_loss: 0.5040 - val_accuracy: 0.7812\n",
            "Epoch 37/100\n",
            "20/20 [==============================] - 0s 4ms/step - loss: 0.4293 - accuracy: 0.7882 - val_loss: 0.5028 - val_accuracy: 0.7865\n",
            "Epoch 38/100\n",
            "20/20 [==============================] - 0s 3ms/step - loss: 0.4287 - accuracy: 0.7899 - val_loss: 0.5066 - val_accuracy: 0.7812\n",
            "Epoch 39/100\n",
            "20/20 [==============================] - 0s 3ms/step - loss: 0.4278 - accuracy: 0.7934 - val_loss: 0.5074 - val_accuracy: 0.7812\n",
            "Epoch 40/100\n",
            "20/20 [==============================] - 0s 5ms/step - loss: 0.4276 - accuracy: 0.7899 - val_loss: 0.5089 - val_accuracy: 0.7812\n",
            "Epoch 41/100\n",
            "20/20 [==============================] - 0s 3ms/step - loss: 0.4268 - accuracy: 0.7899 - val_loss: 0.5071 - val_accuracy: 0.7760\n",
            "Epoch 42/100\n",
            "20/20 [==============================] - 0s 3ms/step - loss: 0.4262 - accuracy: 0.7934 - val_loss: 0.5072 - val_accuracy: 0.7760\n",
            "Epoch 43/100\n",
            "20/20 [==============================] - 0s 3ms/step - loss: 0.4260 - accuracy: 0.7934 - val_loss: 0.5068 - val_accuracy: 0.7812\n",
            "Epoch 44/100\n",
            "20/20 [==============================] - 0s 3ms/step - loss: 0.4247 - accuracy: 0.7917 - val_loss: 0.5053 - val_accuracy: 0.7760\n",
            "Epoch 45/100\n",
            "20/20 [==============================] - 0s 4ms/step - loss: 0.4240 - accuracy: 0.7917 - val_loss: 0.5067 - val_accuracy: 0.7865\n",
            "Epoch 46/100\n",
            "20/20 [==============================] - 0s 4ms/step - loss: 0.4233 - accuracy: 0.7934 - val_loss: 0.5041 - val_accuracy: 0.7812\n",
            "Epoch 47/100\n",
            "20/20 [==============================] - 0s 3ms/step - loss: 0.4229 - accuracy: 0.7934 - val_loss: 0.5058 - val_accuracy: 0.7865\n",
            "Epoch 48/100\n",
            "20/20 [==============================] - 0s 4ms/step - loss: 0.4230 - accuracy: 0.7951 - val_loss: 0.5028 - val_accuracy: 0.7812\n",
            "Epoch 49/100\n",
            "20/20 [==============================] - 0s 3ms/step - loss: 0.4218 - accuracy: 0.7934 - val_loss: 0.5026 - val_accuracy: 0.7812\n",
            "Epoch 50/100\n",
            "20/20 [==============================] - 0s 3ms/step - loss: 0.4215 - accuracy: 0.7934 - val_loss: 0.5061 - val_accuracy: 0.7812\n",
            "Epoch 51/100\n",
            "20/20 [==============================] - 0s 3ms/step - loss: 0.4206 - accuracy: 0.7917 - val_loss: 0.5052 - val_accuracy: 0.7812\n",
            "Epoch 52/100\n",
            "20/20 [==============================] - 0s 3ms/step - loss: 0.4195 - accuracy: 0.7934 - val_loss: 0.5057 - val_accuracy: 0.7812\n",
            "Epoch 53/100\n",
            "20/20 [==============================] - 0s 4ms/step - loss: 0.4192 - accuracy: 0.7934 - val_loss: 0.5071 - val_accuracy: 0.7812\n",
            "Epoch 54/100\n",
            "20/20 [==============================] - 0s 4ms/step - loss: 0.4183 - accuracy: 0.7951 - val_loss: 0.5072 - val_accuracy: 0.7812\n",
            "Epoch 55/100\n",
            "20/20 [==============================] - 0s 4ms/step - loss: 0.4182 - accuracy: 0.7934 - val_loss: 0.5066 - val_accuracy: 0.7812\n",
            "Epoch 56/100\n",
            "20/20 [==============================] - 0s 3ms/step - loss: 0.4175 - accuracy: 0.7969 - val_loss: 0.5077 - val_accuracy: 0.7812\n",
            "Epoch 57/100\n",
            "20/20 [==============================] - 0s 4ms/step - loss: 0.4171 - accuracy: 0.8003 - val_loss: 0.5075 - val_accuracy: 0.7812\n",
            "Epoch 58/100\n",
            "20/20 [==============================] - 0s 3ms/step - loss: 0.4167 - accuracy: 0.7986 - val_loss: 0.5087 - val_accuracy: 0.7812\n",
            "Epoch 59/100\n",
            "20/20 [==============================] - 0s 5ms/step - loss: 0.4164 - accuracy: 0.8021 - val_loss: 0.5090 - val_accuracy: 0.7865\n",
            "Epoch 60/100\n",
            "20/20 [==============================] - 0s 3ms/step - loss: 0.4155 - accuracy: 0.8021 - val_loss: 0.5083 - val_accuracy: 0.7812\n",
            "Epoch 61/100\n",
            "20/20 [==============================] - 0s 4ms/step - loss: 0.4145 - accuracy: 0.8021 - val_loss: 0.5082 - val_accuracy: 0.7812\n",
            "Epoch 62/100\n",
            "20/20 [==============================] - 0s 4ms/step - loss: 0.4141 - accuracy: 0.8056 - val_loss: 0.5059 - val_accuracy: 0.7865\n",
            "Epoch 63/100\n",
            "20/20 [==============================] - 0s 4ms/step - loss: 0.4138 - accuracy: 0.8038 - val_loss: 0.5044 - val_accuracy: 0.7812\n",
            "Epoch 64/100\n",
            "20/20 [==============================] - 0s 4ms/step - loss: 0.4138 - accuracy: 0.8038 - val_loss: 0.5066 - val_accuracy: 0.7812\n",
            "Epoch 65/100\n",
            "20/20 [==============================] - 0s 4ms/step - loss: 0.4137 - accuracy: 0.8003 - val_loss: 0.5072 - val_accuracy: 0.7812\n",
            "Epoch 66/100\n",
            "20/20 [==============================] - 0s 4ms/step - loss: 0.4127 - accuracy: 0.8003 - val_loss: 0.5049 - val_accuracy: 0.7812\n",
            "Epoch 67/100\n",
            "20/20 [==============================] - 0s 3ms/step - loss: 0.4118 - accuracy: 0.8038 - val_loss: 0.5061 - val_accuracy: 0.7812\n",
            "Epoch 68/100\n",
            "20/20 [==============================] - 0s 4ms/step - loss: 0.4113 - accuracy: 0.8021 - val_loss: 0.5076 - val_accuracy: 0.7812\n",
            "Epoch 69/100\n",
            "20/20 [==============================] - 0s 4ms/step - loss: 0.4107 - accuracy: 0.8003 - val_loss: 0.5077 - val_accuracy: 0.7812\n",
            "Epoch 70/100\n",
            "20/20 [==============================] - 0s 3ms/step - loss: 0.4108 - accuracy: 0.8073 - val_loss: 0.5082 - val_accuracy: 0.7812\n",
            "Epoch 71/100\n",
            "20/20 [==============================] - 0s 3ms/step - loss: 0.4102 - accuracy: 0.8003 - val_loss: 0.5098 - val_accuracy: 0.7760\n",
            "Epoch 72/100\n",
            "20/20 [==============================] - 0s 3ms/step - loss: 0.4095 - accuracy: 0.8021 - val_loss: 0.5095 - val_accuracy: 0.7812\n",
            "Epoch 73/100\n",
            "20/20 [==============================] - 0s 4ms/step - loss: 0.4088 - accuracy: 0.8073 - val_loss: 0.5090 - val_accuracy: 0.7812\n",
            "Epoch 74/100\n",
            "20/20 [==============================] - 0s 3ms/step - loss: 0.4086 - accuracy: 0.8021 - val_loss: 0.5098 - val_accuracy: 0.7760\n",
            "Epoch 75/100\n",
            "20/20 [==============================] - 0s 3ms/step - loss: 0.4079 - accuracy: 0.8056 - val_loss: 0.5083 - val_accuracy: 0.7812\n",
            "Epoch 76/100\n",
            "20/20 [==============================] - 0s 3ms/step - loss: 0.4073 - accuracy: 0.8056 - val_loss: 0.5092 - val_accuracy: 0.7812\n",
            "Epoch 77/100\n",
            "20/20 [==============================] - 0s 3ms/step - loss: 0.4073 - accuracy: 0.8056 - val_loss: 0.5090 - val_accuracy: 0.7760\n",
            "Epoch 78/100\n",
            "20/20 [==============================] - 0s 4ms/step - loss: 0.4066 - accuracy: 0.8056 - val_loss: 0.5102 - val_accuracy: 0.7760\n",
            "Epoch 79/100\n",
            "20/20 [==============================] - 0s 4ms/step - loss: 0.4059 - accuracy: 0.8090 - val_loss: 0.5097 - val_accuracy: 0.7760\n",
            "Epoch 80/100\n",
            "20/20 [==============================] - 0s 4ms/step - loss: 0.4060 - accuracy: 0.8056 - val_loss: 0.5086 - val_accuracy: 0.7760\n",
            "Epoch 81/100\n",
            "20/20 [==============================] - 0s 4ms/step - loss: 0.4053 - accuracy: 0.8056 - val_loss: 0.5099 - val_accuracy: 0.7760\n",
            "Epoch 82/100\n",
            "20/20 [==============================] - 0s 4ms/step - loss: 0.4049 - accuracy: 0.8090 - val_loss: 0.5104 - val_accuracy: 0.7760\n",
            "Epoch 83/100\n",
            "20/20 [==============================] - 0s 4ms/step - loss: 0.4049 - accuracy: 0.8125 - val_loss: 0.5104 - val_accuracy: 0.7760\n",
            "Epoch 84/100\n",
            "20/20 [==============================] - 0s 4ms/step - loss: 0.4042 - accuracy: 0.8090 - val_loss: 0.5098 - val_accuracy: 0.7760\n",
            "Epoch 85/100\n",
            "20/20 [==============================] - 0s 4ms/step - loss: 0.4042 - accuracy: 0.8108 - val_loss: 0.5110 - val_accuracy: 0.7812\n",
            "Epoch 86/100\n",
            "20/20 [==============================] - 0s 3ms/step - loss: 0.4039 - accuracy: 0.8073 - val_loss: 0.5081 - val_accuracy: 0.7812\n",
            "Epoch 87/100\n",
            "20/20 [==============================] - 0s 4ms/step - loss: 0.4029 - accuracy: 0.8073 - val_loss: 0.5077 - val_accuracy: 0.7812\n",
            "Epoch 88/100\n",
            "20/20 [==============================] - 0s 4ms/step - loss: 0.4032 - accuracy: 0.8090 - val_loss: 0.5079 - val_accuracy: 0.7812\n",
            "Epoch 89/100\n",
            "20/20 [==============================] - 0s 3ms/step - loss: 0.4023 - accuracy: 0.8073 - val_loss: 0.5101 - val_accuracy: 0.7812\n",
            "Epoch 90/100\n",
            "20/20 [==============================] - 0s 4ms/step - loss: 0.4019 - accuracy: 0.8090 - val_loss: 0.5101 - val_accuracy: 0.7812\n",
            "Epoch 91/100\n",
            "20/20 [==============================] - 0s 3ms/step - loss: 0.4014 - accuracy: 0.8073 - val_loss: 0.5104 - val_accuracy: 0.7812\n",
            "Epoch 92/100\n",
            "20/20 [==============================] - 0s 4ms/step - loss: 0.4012 - accuracy: 0.8090 - val_loss: 0.5101 - val_accuracy: 0.7812\n",
            "Epoch 93/100\n",
            "20/20 [==============================] - 0s 3ms/step - loss: 0.4009 - accuracy: 0.8090 - val_loss: 0.5064 - val_accuracy: 0.7865\n",
            "Epoch 94/100\n",
            "20/20 [==============================] - 0s 4ms/step - loss: 0.4006 - accuracy: 0.8125 - val_loss: 0.5067 - val_accuracy: 0.7812\n",
            "Epoch 95/100\n",
            "20/20 [==============================] - 0s 3ms/step - loss: 0.4007 - accuracy: 0.8073 - val_loss: 0.5068 - val_accuracy: 0.7865\n",
            "Epoch 96/100\n",
            "20/20 [==============================] - 0s 3ms/step - loss: 0.4001 - accuracy: 0.8073 - val_loss: 0.5092 - val_accuracy: 0.7760\n",
            "Epoch 97/100\n",
            "20/20 [==============================] - 0s 3ms/step - loss: 0.3994 - accuracy: 0.8090 - val_loss: 0.5074 - val_accuracy: 0.7812\n",
            "Epoch 98/100\n",
            "20/20 [==============================] - 0s 3ms/step - loss: 0.3996 - accuracy: 0.8108 - val_loss: 0.5098 - val_accuracy: 0.7760\n",
            "Epoch 99/100\n",
            "20/20 [==============================] - 0s 3ms/step - loss: 0.3983 - accuracy: 0.8090 - val_loss: 0.5093 - val_accuracy: 0.7760\n",
            "Epoch 100/100\n",
            "20/20 [==============================] - 0s 4ms/step - loss: 0.3987 - accuracy: 0.8090 - val_loss: 0.5119 - val_accuracy: 0.7760\n"
          ]
        }
      ]
    },
    {
      "cell_type": "code",
      "source": [
        "plt.plot(history.history['loss'],c='r')\n",
        "plt.plot(history.history['val_loss'])"
      ],
      "metadata": {
        "colab": {
          "base_uri": "https://localhost:8080/",
          "height": 286
        },
        "id": "nwO_lxKhE4Js",
        "outputId": "f5613316-91b7-40ab-d418-ea1af825affe"
      },
      "execution_count": 153,
      "outputs": [
        {
          "output_type": "execute_result",
          "data": {
            "text/plain": [
              "[<matplotlib.lines.Line2D at 0x7fc1ff571f10>]"
            ]
          },
          "metadata": {},
          "execution_count": 153
        },
        {
          "output_type": "display_data",
          "data": {
            "text/plain": [
              "<Figure size 432x288 with 1 Axes>"
            ],
            "image/png": "[encoded data removed]"
          },
          "metadata": {
            "needs_background": "light"
          }
        }
      ]
    },
    {
      "cell_type": "code",
      "source": [
        "\n",
        "plt.plot(history.history['accuracy'],c='r')\n",
        "plt.plot(history.history['val_accuracy'])"
      ],
      "metadata": {
        "colab": {
          "base_uri": "https://localhost:8080/",
          "height": 283
        },
        "id": "8duIQwSOFaa-",
        "outputId": "2c4e046f-5bed-416e-c571-c5af8d518edb"
      },
      "execution_count": 154,
      "outputs": [
        {
          "output_type": "execute_result",
          "data": {
            "text/plain": [
              "[<matplotlib.lines.Line2D at 0x7fc1ff5a4490>]"
            ]
          },
          "metadata": {},
          "execution_count": 154
        },
        {
          "output_type": "display_data",
          "data": {
            "text/plain": [
              "<Figure size 432x288 with 1 Axes>"
            ],
            "image/png": "[encoded data removed]"
          },
          "metadata": {
            "needs_background": "light"
          }
        }
      ]
    },
    {
      "cell_type": "code",
      "source": [
        "# 1.How to select appropriate optimizer\n",
        "# 2.How to select number of node in layer\n",
        "# 3.How to select number of node\n",
        "# 4.All in one model"
      ],
      "metadata": {
        "id": "m-SQJxjNF3iZ"
      },
      "execution_count": 155,
      "outputs": []
    },
    {
      "cell_type": "code",
      "source": [
        "!pip install keras-tuner --upgrade"
      ],
      "metadata": {
        "colab": {
          "base_uri": "https://localhost:8080/"
        },
        "id": "PSu9-9tYc5Bj",
        "outputId": "68ca3b26-962e-4e1d-e574-080ddd1036db"
      },
      "execution_count": 156,
      "outputs": [
        {
          "output_type": "stream",
          "name": "stdout",
          "text": [
            "Looking in indexes: https://pypi.org/simple, https://us-python.pkg.dev/colab-wheels/public/simple/\n",
            "Requirement already satisfied: keras-tuner in /usr/local/lib/python3.7/dist-packages (1.1.3)\n",
            "Requirement already satisfied: tensorboard in /usr/local/lib/python3.7/dist-packages (from keras-tuner) (2.9.1)\n",
            "Requirement already satisfied: ipython in /usr/local/lib/python3.7/dist-packages (from keras-tuner) (7.9.0)\n",
            "Requirement already satisfied: kt-legacy in /usr/local/lib/python3.7/dist-packages (from keras-tuner) (1.0.4)\n",
            "Requirement already satisfied: requests in /usr/local/lib/python3.7/dist-packages (from keras-tuner) (2.23.0)\n",
            "Requirement already satisfied: numpy in /usr/local/lib/python3.7/dist-packages (from keras-tuner) (1.21.6)\n",
            "Requirement already satisfied: packaging in /usr/local/lib/python3.7/dist-packages (from keras-tuner) (21.3)\n",
            "Requirement already satisfied: traitlets>=4.2 in /usr/local/lib/python3.7/dist-packages (from ipython->keras-tuner) (5.1.1)\n",
            "Requirement already satisfied: decorator in /usr/local/lib/python3.7/dist-packages (from ipython->keras-tuner) (4.4.2)\n",
            "Requirement already satisfied: pygments in /usr/local/lib/python3.7/dist-packages (from ipython->keras-tuner) (2.6.1)\n",
            "Requirement already satisfied: backcall in /usr/local/lib/python3.7/dist-packages (from ipython->keras-tuner) (0.2.0)\n",
            "Requirement already satisfied: jedi>=0.10 in /usr/local/lib/python3.7/dist-packages (from ipython->keras-tuner) (0.18.1)\n",
            "Requirement already satisfied: setuptools>=18.5 in /usr/local/lib/python3.7/dist-packages (from ipython->keras-tuner) (57.4.0)\n",
            "Requirement already satisfied: pexpect in /usr/local/lib/python3.7/dist-packages (from ipython->keras-tuner) (4.8.0)\n",
            "Requirement already satisfied: prompt-toolkit<2.1.0,>=2.0.0 in /usr/local/lib/python3.7/dist-packages (from ipython->keras-tuner) (2.0.10)\n",
            "Requirement already satisfied: pickleshare in /usr/local/lib/python3.7/dist-packages (from ipython->keras-tuner) (0.7.5)\n",
            "Requirement already satisfied: parso<0.9.0,>=0.8.0 in /usr/local/lib/python3.7/dist-packages (from jedi>=0.10->ipython->keras-tuner) (0.8.3)\n",
            "Requirement already satisfied: six>=1.9.0 in /usr/local/lib/python3.7/dist-packages (from prompt-toolkit<2.1.0,>=2.0.0->ipython->keras-tuner) (1.15.0)\n",
            "Requirement already satisfied: wcwidth in /usr/local/lib/python3.7/dist-packages (from prompt-toolkit<2.1.0,>=2.0.0->ipython->keras-tuner) (0.2.5)\n",
            "Requirement already satisfied: pyparsing!=3.0.5,>=2.0.2 in /usr/local/lib/python3.7/dist-packages (from packaging->keras-tuner) (3.0.9)\n",
            "Requirement already satisfied: ptyprocess>=0.5 in /usr/local/lib/python3.7/dist-packages (from pexpect->ipython->keras-tuner) (0.7.0)\n",
            "Requirement already satisfied: idna<3,>=2.5 in /usr/local/lib/python3.7/dist-packages (from requests->keras-tuner) (2.10)\n",
            "Requirement already satisfied: urllib3!=1.25.0,!=1.25.1,<1.26,>=1.21.1 in /usr/local/lib/python3.7/dist-packages (from requests->keras-tuner) (1.24.3)\n",
            "Requirement already satisfied: certifi>=2017.4.17 in /usr/local/lib/python3.7/dist-packages (from requests->keras-tuner) (2022.9.24)\n",
            "Requirement already satisfied: chardet<4,>=3.0.2 in /usr/local/lib/python3.7/dist-packages (from requests->keras-tuner) (3.0.4)\n",
            "Requirement already satisfied: tensorboard-plugin-wit>=1.6.0 in /usr/local/lib/python3.7/dist-packages (from tensorboard->keras-tuner) (1.8.1)\n",
            "Requirement already satisfied: google-auth<3,>=1.6.3 in /usr/local/lib/python3.7/dist-packages (from tensorboard->keras-tuner) (1.35.0)\n",
            "Requirement already satisfied: protobuf<3.20,>=3.9.2 in /usr/local/lib/python3.7/dist-packages (from tensorboard->keras-tuner) (3.17.3)\n",
            "Requirement already satisfied: grpcio>=1.24.3 in /usr/local/lib/python3.7/dist-packages (from tensorboard->keras-tuner) (1.49.1)\n",
            "Requirement already satisfied: markdown>=2.6.8 in /usr/local/lib/python3.7/dist-packages (from tensorboard->keras-tuner) (3.4.1)\n",
            "Requirement already satisfied: tensorboard-data-server<0.7.0,>=0.6.0 in /usr/local/lib/python3.7/dist-packages (from tensorboard->keras-tuner) (0.6.1)\n",
            "Requirement already satisfied: wheel>=0.26 in /usr/local/lib/python3.7/dist-packages (from tensorboard->keras-tuner) (0.37.1)\n",
            "Requirement already satisfied: werkzeug>=1.0.1 in /usr/local/lib/python3.7/dist-packages (from tensorboard->keras-tuner) (1.0.1)\n",
            "Requirement already satisfied: absl-py>=0.4 in /usr/local/lib/python3.7/dist-packages (from tensorboard->keras-tuner) (1.2.0)\n",
            "Requirement already satisfied: google-auth-oauthlib<0.5,>=0.4.1 in /usr/local/lib/python3.7/dist-packages (from tensorboard->keras-tuner) (0.4.6)\n",
            "Requirement already satisfied: pyasn1-modules>=0.2.1 in /usr/local/lib/python3.7/dist-packages (from google-auth<3,>=1.6.3->tensorboard->keras-tuner) (0.2.8)\n",
            "Requirement already satisfied: cachetools<5.0,>=2.0.0 in /usr/local/lib/python3.7/dist-packages (from google-auth<3,>=1.6.3->tensorboard->keras-tuner) (4.2.4)\n",
            "Requirement already satisfied: rsa<5,>=3.1.4 in /usr/local/lib/python3.7/dist-packages (from google-auth<3,>=1.6.3->tensorboard->keras-tuner) (4.9)\n",
            "Requirement already satisfied: requests-oauthlib>=0.7.0 in /usr/local/lib/python3.7/dist-packages (from google-auth-oauthlib<0.5,>=0.4.1->tensorboard->keras-tuner) (1.3.1)\n",
            "Requirement already satisfied: importlib-metadata>=4.4 in /usr/local/lib/python3.7/dist-packages (from markdown>=2.6.8->tensorboard->keras-tuner) (5.0.0)\n",
            "Requirement already satisfied: typing-extensions>=3.6.4 in /usr/local/lib/python3.7/dist-packages (from importlib-metadata>=4.4->markdown>=2.6.8->tensorboard->keras-tuner) (4.1.1)\n",
            "Requirement already satisfied: zipp>=0.5 in /usr/local/lib/python3.7/dist-packages (from importlib-metadata>=4.4->markdown>=2.6.8->tensorboard->keras-tuner) (3.9.0)\n",
            "Requirement already satisfied: pyasn1<0.5.0,>=0.4.6 in /usr/local/lib/python3.7/dist-packages (from pyasn1-modules>=0.2.1->google-auth<3,>=1.6.3->tensorboard->keras-tuner) (0.4.8)\n",
            "Requirement already satisfied: oauthlib>=3.0.0 in /usr/local/lib/python3.7/dist-packages (from requests-oauthlib>=0.7.0->google-auth-oauthlib<0.5,>=0.4.1->tensorboard->keras-tuner) (3.2.1)\n"
          ]
        }
      ]
    },
    {
      "cell_type": "code",
      "source": [
        "import keras_tuner as kt"
      ],
      "metadata": {
        "id": "ZQNPxVlUI5jx"
      },
      "execution_count": 157,
      "outputs": []
    },
    {
      "cell_type": "markdown",
      "source": [
        "## **Hyperparameter tuning in Optimizer**"
      ],
      "metadata": {
        "id": "beSPOhLw8uVR"
      }
    },
    {
      "cell_type": "code",
      "source": [
        "def build_model(hp):\n",
        "    model=Sequential()\n",
        "    counter=0\n",
        "    for i in range(hp.Int('num_layers',min_value=1,max_value=10)):\n",
        "        if counter==0:\n",
        "            model.add(\n",
        "                Dense(\n",
        "                  hp.Int('units'+str(i),min_value=8,max_value=128,step=8),\n",
        "                  activation=hp.Choice('activation'+str(i),values=['relu','tanh','sigmoid']),\n",
        "                  input_dim=8\n",
        "                )\n",
        "            )\n",
        "            model.add(Dropout(hp.Choice('dropout'+str(i),values=[0.1,0.2,0.3,0.4,0.5,0.6,0.7,0.8,0.9])))\n",
        "        else:\n",
        "            model.add(\n",
        "                Dense(\n",
        "                  hp.Int('units'+str(i),min_value=8,max_value=128,step=8),\n",
        "                  activation=hp.Choice('activation'+str(i),values=['relu','tanh','sigmoid']),\n",
        "                  \n",
        "                )\n",
        "            )\n",
        "            model.add(Dropout(hp.Choice('dropout'+str(i),values=[0.1,0.2,0.3,0.4,0.5,0.6,0.7,0.8,0.9])))\n",
        "            \n",
        "        counter=counter+1\n",
        "    model.add(Dense(1,activation='sigmoid'))\n",
        "    optimizer=hp.Choice('optimizer',values=['rmsprop','adam','sgd','nadam','adadelta'])\n",
        "    model.compile(optimizer=optimizer,loss='binary_crossentropy',metrics=['accuracy'])\n",
        "\n",
        "    return model\n",
        "\n",
        "            \n",
        "     "
      ],
      "metadata": {
        "id": "iIuuOAeTJOEy"
      },
      "execution_count": 132,
      "outputs": []
    },
    {
      "cell_type": "code",
      "source": [
        "tuner=kt.RandomSearch(build_model,objective='val_accuracy',max_trials=5,directory='mkdir',project_name='final4')"
      ],
      "metadata": {
        "id": "znzvpoJyJJ6L"
      },
      "execution_count": 158,
      "outputs": []
    },
    {
      "cell_type": "code",
      "source": [
        "tuner.search(X_train,y_train,epochs=5,validation_data=(X_test,y_test))"
      ],
      "metadata": {
        "id": "AJEomOH7R3zS",
        "colab": {
          "base_uri": "https://localhost:8080/"
        },
        "outputId": "26b0ac2d-ac16-4518-ca9d-1ac286f542f2"
      },
      "execution_count": 159,
      "outputs": [
        {
          "output_type": "stream",
          "name": "stdout",
          "text": [
            "Trial 5 Complete [00h 00m 03s]\n",
            "val_accuracy: 0.6614583134651184\n",
            "\n",
            "Best val_accuracy So Far: 0.7135416865348816\n",
            "Total elapsed time: 00h 00m 16s\n"
          ]
        }
      ]
    },
    {
      "cell_type": "code",
      "source": [
        "tuner.get_best_hyperparameters()[0].values"
      ],
      "metadata": {
        "colab": {
          "base_uri": "https://localhost:8080/"
        },
        "id": "bz2Al2dXSfhf",
        "outputId": "3ffe98fa-99f3-4842-ab04-ea4f6ac21d8f"
      },
      "execution_count": 160,
      "outputs": [
        {
          "output_type": "execute_result",
          "data": {
            "text/plain": [
              "{'num_layers': 1,\n",
              " 'units0': 112,\n",
              " 'activation0': 'relu',\n",
              " 'dropout0': 0.8,\n",
              " 'optimizer': 'sgd',\n",
              " 'units1': 16,\n",
              " 'activation1': 'relu',\n",
              " 'dropout1': 0.5,\n",
              " 'units2': 40,\n",
              " 'activation2': 'relu',\n",
              " 'dropout2': 0.2,\n",
              " 'units3': 80,\n",
              " 'activation3': 'tanh',\n",
              " 'dropout3': 0.7,\n",
              " 'units4': 112,\n",
              " 'activation4': 'sigmoid',\n",
              " 'dropout4': 0.9,\n",
              " 'units5': 40,\n",
              " 'activation5': 'tanh',\n",
              " 'dropout5': 0.3,\n",
              " 'units6': 48,\n",
              " 'activation6': 'sigmoid',\n",
              " 'dropout6': 0.3,\n",
              " 'units7': 64,\n",
              " 'activation7': 'tanh',\n",
              " 'dropout7': 0.7,\n",
              " 'units8': 24,\n",
              " 'activation8': 'tanh',\n",
              " 'dropout8': 0.7}"
            ]
          },
          "metadata": {},
          "execution_count": 160
        }
      ]
    },
    {
      "cell_type": "code",
      "source": [
        "model1=tuner.get_best_models(num_models=1)[0]"
      ],
      "metadata": {
        "id": "k2vtMNNxTdY_"
      },
      "execution_count": 161,
      "outputs": []
    },
    {
      "cell_type": "code",
      "source": [
        "model1.summary()"
      ],
      "metadata": {
        "colab": {
          "base_uri": "https://localhost:8080/"
        },
        "id": "G4JMND4sUBAq",
        "outputId": "d1686bee-b945-41a3-9bc5-f14dd20019a7"
      },
      "execution_count": 162,
      "outputs": [
        {
          "output_type": "stream",
          "name": "stdout",
          "text": [
            "Model: \"sequential\"\n",
            "_________________________________________________________________\n",
            " Layer (type)                Output Shape              Param #   \n",
            "=================================================================\n",
            " dense (Dense)               (None, 112)               1008      \n",
            "                                                                 \n",
            " dropout (Dropout)           (None, 112)               0         \n",
            "                                                                 \n",
            " dense_1 (Dense)             (None, 1)                 113       \n",
            "                                                                 \n",
            "=================================================================\n",
            "Total params: 1,121\n",
            "Trainable params: 1,121\n",
            "Non-trainable params: 0\n",
            "_________________________________________________________________\n"
          ]
        }
      ]
    },
    {
      "cell_type": "code",
      "source": [
        "history2=model1.fit(X_train,y_train,epochs=100,initial_epoch=6,validation_data=(X_test,y_test),batch_size=30)"
      ],
      "metadata": {
        "colab": {
          "base_uri": "https://localhost:8080/"
        },
        "id": "CL_AaXrvUDTY",
        "outputId": "94d930f9-8ba2-4176-9b63-b6fe9be56960"
      },
      "execution_count": 163,
      "outputs": [
        {
          "output_type": "stream",
          "name": "stdout",
          "text": [
            "Epoch 7/100\n",
            "20/20 [==============================] - 1s 25ms/step - loss: 0.6806 - accuracy: 0.6128 - val_loss: 0.5801 - val_accuracy: 0.7135\n",
            "Epoch 8/100\n",
            "20/20 [==============================] - 0s 10ms/step - loss: 0.6534 - accuracy: 0.6337 - val_loss: 0.5706 - val_accuracy: 0.7500\n",
            "Epoch 9/100\n",
            "20/20 [==============================] - 0s 5ms/step - loss: 0.6370 - accuracy: 0.6615 - val_loss: 0.5623 - val_accuracy: 0.7500\n",
            "Epoch 10/100\n",
            "20/20 [==============================] - 0s 5ms/step - loss: 0.6064 - accuracy: 0.6979 - val_loss: 0.5555 - val_accuracy: 0.7656\n",
            "Epoch 11/100\n",
            "20/20 [==============================] - 0s 8ms/step - loss: 0.6024 - accuracy: 0.6684 - val_loss: 0.5484 - val_accuracy: 0.7708\n",
            "Epoch 12/100\n",
            "20/20 [==============================] - 0s 8ms/step - loss: 0.5827 - accuracy: 0.7118 - val_loss: 0.5422 - val_accuracy: 0.7708\n",
            "Epoch 13/100\n",
            "20/20 [==============================] - 0s 6ms/step - loss: 0.6088 - accuracy: 0.6667 - val_loss: 0.5380 - val_accuracy: 0.7656\n",
            "Epoch 14/100\n",
            "20/20 [==============================] - 0s 5ms/step - loss: 0.5825 - accuracy: 0.6771 - val_loss: 0.5339 - val_accuracy: 0.7656\n",
            "Epoch 15/100\n",
            "20/20 [==============================] - 0s 6ms/step - loss: 0.5508 - accuracy: 0.7066 - val_loss: 0.5304 - val_accuracy: 0.7656\n",
            "Epoch 16/100\n",
            "20/20 [==============================] - 0s 9ms/step - loss: 0.5607 - accuracy: 0.7309 - val_loss: 0.5265 - val_accuracy: 0.7656\n",
            "Epoch 17/100\n",
            "20/20 [==============================] - 0s 8ms/step - loss: 0.5590 - accuracy: 0.7101 - val_loss: 0.5227 - val_accuracy: 0.7604\n",
            "Epoch 18/100\n",
            "20/20 [==============================] - 0s 12ms/step - loss: 0.5809 - accuracy: 0.6910 - val_loss: 0.5204 - val_accuracy: 0.7708\n",
            "Epoch 19/100\n",
            "20/20 [==============================] - 0s 7ms/step - loss: 0.5708 - accuracy: 0.7222 - val_loss: 0.5180 - val_accuracy: 0.7708\n",
            "Epoch 20/100\n",
            "20/20 [==============================] - 0s 7ms/step - loss: 0.5790 - accuracy: 0.6962 - val_loss: 0.5159 - val_accuracy: 0.7708\n",
            "Epoch 21/100\n",
            "20/20 [==============================] - 0s 4ms/step - loss: 0.5414 - accuracy: 0.7188 - val_loss: 0.5139 - val_accuracy: 0.7708\n",
            "Epoch 22/100\n",
            "20/20 [==============================] - 0s 4ms/step - loss: 0.5607 - accuracy: 0.6997 - val_loss: 0.5108 - val_accuracy: 0.7760\n",
            "Epoch 23/100\n",
            "20/20 [==============================] - 0s 4ms/step - loss: 0.5494 - accuracy: 0.7274 - val_loss: 0.5094 - val_accuracy: 0.7760\n",
            "Epoch 24/100\n",
            "20/20 [==============================] - 0s 4ms/step - loss: 0.5320 - accuracy: 0.7361 - val_loss: 0.5076 - val_accuracy: 0.7760\n",
            "Epoch 25/100\n",
            "20/20 [==============================] - 0s 4ms/step - loss: 0.5457 - accuracy: 0.7274 - val_loss: 0.5066 - val_accuracy: 0.7760\n",
            "Epoch 26/100\n",
            "20/20 [==============================] - 0s 3ms/step - loss: 0.5295 - accuracy: 0.7326 - val_loss: 0.5052 - val_accuracy: 0.7760\n",
            "Epoch 27/100\n",
            "20/20 [==============================] - 0s 4ms/step - loss: 0.5203 - accuracy: 0.7361 - val_loss: 0.5034 - val_accuracy: 0.7760\n",
            "Epoch 28/100\n",
            "20/20 [==============================] - 0s 4ms/step - loss: 0.5164 - accuracy: 0.7274 - val_loss: 0.5016 - val_accuracy: 0.7760\n",
            "Epoch 29/100\n",
            "20/20 [==============================] - 0s 4ms/step - loss: 0.5403 - accuracy: 0.7135 - val_loss: 0.5003 - val_accuracy: 0.7812\n",
            "Epoch 30/100\n",
            "20/20 [==============================] - 0s 4ms/step - loss: 0.5333 - accuracy: 0.7413 - val_loss: 0.5003 - val_accuracy: 0.7865\n",
            "Epoch 31/100\n",
            "20/20 [==============================] - 0s 4ms/step - loss: 0.5364 - accuracy: 0.7257 - val_loss: 0.4997 - val_accuracy: 0.7865\n",
            "Epoch 32/100\n",
            "20/20 [==============================] - 0s 4ms/step - loss: 0.5229 - accuracy: 0.7292 - val_loss: 0.4984 - val_accuracy: 0.7969\n",
            "Epoch 33/100\n",
            "20/20 [==============================] - 0s 4ms/step - loss: 0.5271 - accuracy: 0.7344 - val_loss: 0.4979 - val_accuracy: 0.7969\n",
            "Epoch 34/100\n",
            "20/20 [==============================] - 0s 4ms/step - loss: 0.5441 - accuracy: 0.7222 - val_loss: 0.4973 - val_accuracy: 0.7969\n",
            "Epoch 35/100\n",
            "20/20 [==============================] - 0s 4ms/step - loss: 0.5312 - accuracy: 0.7413 - val_loss: 0.4974 - val_accuracy: 0.7917\n",
            "Epoch 36/100\n",
            "20/20 [==============================] - 0s 4ms/step - loss: 0.5267 - accuracy: 0.7448 - val_loss: 0.4958 - val_accuracy: 0.7917\n",
            "Epoch 37/100\n",
            "20/20 [==============================] - 0s 4ms/step - loss: 0.5145 - accuracy: 0.7378 - val_loss: 0.4958 - val_accuracy: 0.7917\n",
            "Epoch 38/100\n",
            "20/20 [==============================] - 0s 4ms/step - loss: 0.5133 - accuracy: 0.7344 - val_loss: 0.4941 - val_accuracy: 0.7917\n",
            "Epoch 39/100\n",
            "20/20 [==============================] - 0s 4ms/step - loss: 0.5155 - accuracy: 0.7309 - val_loss: 0.4940 - val_accuracy: 0.7917\n",
            "Epoch 40/100\n",
            "20/20 [==============================] - 0s 4ms/step - loss: 0.5042 - accuracy: 0.7569 - val_loss: 0.4936 - val_accuracy: 0.7917\n",
            "Epoch 41/100\n",
            "20/20 [==============================] - 0s 5ms/step - loss: 0.5146 - accuracy: 0.7535 - val_loss: 0.4933 - val_accuracy: 0.7917\n",
            "Epoch 42/100\n",
            "20/20 [==============================] - 0s 4ms/step - loss: 0.5072 - accuracy: 0.7500 - val_loss: 0.4931 - val_accuracy: 0.7917\n",
            "Epoch 43/100\n",
            "20/20 [==============================] - 0s 4ms/step - loss: 0.5186 - accuracy: 0.7431 - val_loss: 0.4924 - val_accuracy: 0.7865\n",
            "Epoch 44/100\n",
            "20/20 [==============================] - 0s 4ms/step - loss: 0.5125 - accuracy: 0.7517 - val_loss: 0.4920 - val_accuracy: 0.7969\n",
            "Epoch 45/100\n",
            "20/20 [==============================] - 0s 4ms/step - loss: 0.5130 - accuracy: 0.7587 - val_loss: 0.4926 - val_accuracy: 0.7969\n",
            "Epoch 46/100\n",
            "20/20 [==============================] - 0s 5ms/step - loss: 0.5087 - accuracy: 0.7622 - val_loss: 0.4928 - val_accuracy: 0.7917\n",
            "Epoch 47/100\n",
            "20/20 [==============================] - 0s 4ms/step - loss: 0.5055 - accuracy: 0.7535 - val_loss: 0.4921 - val_accuracy: 0.7865\n",
            "Epoch 48/100\n",
            "20/20 [==============================] - 0s 3ms/step - loss: 0.5284 - accuracy: 0.7396 - val_loss: 0.4914 - val_accuracy: 0.7917\n",
            "Epoch 49/100\n",
            "20/20 [==============================] - 0s 4ms/step - loss: 0.5125 - accuracy: 0.7431 - val_loss: 0.4910 - val_accuracy: 0.7917\n",
            "Epoch 50/100\n",
            "20/20 [==============================] - 0s 4ms/step - loss: 0.5309 - accuracy: 0.7448 - val_loss: 0.4913 - val_accuracy: 0.7969\n",
            "Epoch 51/100\n",
            "20/20 [==============================] - 0s 4ms/step - loss: 0.5023 - accuracy: 0.7500 - val_loss: 0.4910 - val_accuracy: 0.7969\n",
            "Epoch 52/100\n",
            "20/20 [==============================] - 0s 4ms/step - loss: 0.5194 - accuracy: 0.7170 - val_loss: 0.4907 - val_accuracy: 0.7969\n",
            "Epoch 53/100\n",
            "20/20 [==============================] - 0s 4ms/step - loss: 0.5019 - accuracy: 0.7587 - val_loss: 0.4902 - val_accuracy: 0.7969\n",
            "Epoch 54/100\n",
            "20/20 [==============================] - 0s 5ms/step - loss: 0.5012 - accuracy: 0.7656 - val_loss: 0.4901 - val_accuracy: 0.7969\n",
            "Epoch 55/100\n",
            "20/20 [==============================] - 0s 4ms/step - loss: 0.5008 - accuracy: 0.7465 - val_loss: 0.4895 - val_accuracy: 0.7969\n",
            "Epoch 56/100\n",
            "20/20 [==============================] - 0s 4ms/step - loss: 0.5200 - accuracy: 0.7604 - val_loss: 0.4897 - val_accuracy: 0.7969\n",
            "Epoch 57/100\n",
            "20/20 [==============================] - 0s 6ms/step - loss: 0.4931 - accuracy: 0.7708 - val_loss: 0.4893 - val_accuracy: 0.7969\n",
            "Epoch 58/100\n",
            "20/20 [==============================] - 0s 4ms/step - loss: 0.5101 - accuracy: 0.7483 - val_loss: 0.4886 - val_accuracy: 0.7969\n",
            "Epoch 59/100\n",
            "20/20 [==============================] - 0s 4ms/step - loss: 0.4723 - accuracy: 0.7812 - val_loss: 0.4884 - val_accuracy: 0.7969\n",
            "Epoch 60/100\n",
            "20/20 [==============================] - 0s 4ms/step - loss: 0.4946 - accuracy: 0.7622 - val_loss: 0.4885 - val_accuracy: 0.7969\n",
            "Epoch 61/100\n",
            "20/20 [==============================] - 0s 4ms/step - loss: 0.5008 - accuracy: 0.7552 - val_loss: 0.4890 - val_accuracy: 0.7969\n",
            "Epoch 62/100\n",
            "20/20 [==============================] - 0s 4ms/step - loss: 0.5028 - accuracy: 0.7500 - val_loss: 0.4894 - val_accuracy: 0.7969\n",
            "Epoch 63/100\n",
            "20/20 [==============================] - 0s 4ms/step - loss: 0.4933 - accuracy: 0.7569 - val_loss: 0.4893 - val_accuracy: 0.7969\n",
            "Epoch 64/100\n",
            "20/20 [==============================] - 0s 4ms/step - loss: 0.5103 - accuracy: 0.7413 - val_loss: 0.4893 - val_accuracy: 0.7969\n",
            "Epoch 65/100\n",
            "20/20 [==============================] - 0s 5ms/step - loss: 0.5199 - accuracy: 0.7361 - val_loss: 0.4896 - val_accuracy: 0.7969\n",
            "Epoch 66/100\n",
            "20/20 [==============================] - 0s 6ms/step - loss: 0.4880 - accuracy: 0.7656 - val_loss: 0.4893 - val_accuracy: 0.7969\n",
            "Epoch 67/100\n",
            "20/20 [==============================] - 0s 7ms/step - loss: 0.5088 - accuracy: 0.7535 - val_loss: 0.4892 - val_accuracy: 0.7969\n",
            "Epoch 68/100\n",
            "20/20 [==============================] - 0s 4ms/step - loss: 0.4937 - accuracy: 0.7517 - val_loss: 0.4890 - val_accuracy: 0.7917\n",
            "Epoch 69/100\n",
            "20/20 [==============================] - 0s 5ms/step - loss: 0.5114 - accuracy: 0.7656 - val_loss: 0.4886 - val_accuracy: 0.7917\n",
            "Epoch 70/100\n",
            "20/20 [==============================] - 0s 4ms/step - loss: 0.4925 - accuracy: 0.7361 - val_loss: 0.4887 - val_accuracy: 0.7917\n",
            "Epoch 71/100\n",
            "20/20 [==============================] - 0s 4ms/step - loss: 0.4961 - accuracy: 0.7639 - val_loss: 0.4886 - val_accuracy: 0.7917\n",
            "Epoch 72/100\n",
            "20/20 [==============================] - 0s 4ms/step - loss: 0.5153 - accuracy: 0.7535 - val_loss: 0.4877 - val_accuracy: 0.7917\n",
            "Epoch 73/100\n",
            "20/20 [==============================] - 0s 3ms/step - loss: 0.4897 - accuracy: 0.7552 - val_loss: 0.4873 - val_accuracy: 0.7969\n",
            "Epoch 74/100\n",
            "20/20 [==============================] - 0s 4ms/step - loss: 0.4990 - accuracy: 0.7691 - val_loss: 0.4866 - val_accuracy: 0.8021\n",
            "Epoch 75/100\n",
            "20/20 [==============================] - 0s 4ms/step - loss: 0.4946 - accuracy: 0.7604 - val_loss: 0.4863 - val_accuracy: 0.8021\n",
            "Epoch 76/100\n",
            "20/20 [==============================] - 0s 5ms/step - loss: 0.4923 - accuracy: 0.7552 - val_loss: 0.4862 - val_accuracy: 0.7969\n",
            "Epoch 77/100\n",
            "20/20 [==============================] - 0s 6ms/step - loss: 0.5049 - accuracy: 0.7413 - val_loss: 0.4866 - val_accuracy: 0.7969\n",
            "Epoch 78/100\n",
            "20/20 [==============================] - 0s 6ms/step - loss: 0.4860 - accuracy: 0.7483 - val_loss: 0.4867 - val_accuracy: 0.7969\n",
            "Epoch 79/100\n",
            "20/20 [==============================] - 0s 4ms/step - loss: 0.4908 - accuracy: 0.7622 - val_loss: 0.4867 - val_accuracy: 0.7969\n",
            "Epoch 80/100\n",
            "20/20 [==============================] - 0s 4ms/step - loss: 0.4809 - accuracy: 0.7708 - val_loss: 0.4869 - val_accuracy: 0.7969\n",
            "Epoch 81/100\n",
            "20/20 [==============================] - 0s 4ms/step - loss: 0.4998 - accuracy: 0.7431 - val_loss: 0.4862 - val_accuracy: 0.7969\n",
            "Epoch 82/100\n",
            "20/20 [==============================] - 0s 4ms/step - loss: 0.4853 - accuracy: 0.7656 - val_loss: 0.4863 - val_accuracy: 0.7969\n",
            "Epoch 83/100\n",
            "20/20 [==============================] - 0s 3ms/step - loss: 0.4769 - accuracy: 0.7552 - val_loss: 0.4863 - val_accuracy: 0.7969\n",
            "Epoch 84/100\n",
            "20/20 [==============================] - 0s 4ms/step - loss: 0.5069 - accuracy: 0.7587 - val_loss: 0.4866 - val_accuracy: 0.7969\n",
            "Epoch 85/100\n",
            "20/20 [==============================] - 0s 4ms/step - loss: 0.4842 - accuracy: 0.7587 - val_loss: 0.4869 - val_accuracy: 0.7917\n",
            "Epoch 86/100\n",
            "20/20 [==============================] - 0s 4ms/step - loss: 0.4873 - accuracy: 0.7743 - val_loss: 0.4872 - val_accuracy: 0.7969\n",
            "Epoch 87/100\n",
            "20/20 [==============================] - 0s 3ms/step - loss: 0.4774 - accuracy: 0.7639 - val_loss: 0.4873 - val_accuracy: 0.7917\n",
            "Epoch 88/100\n",
            "20/20 [==============================] - 0s 3ms/step - loss: 0.4963 - accuracy: 0.7639 - val_loss: 0.4874 - val_accuracy: 0.7917\n",
            "Epoch 89/100\n",
            "20/20 [==============================] - 0s 4ms/step - loss: 0.4853 - accuracy: 0.7656 - val_loss: 0.4875 - val_accuracy: 0.7917\n",
            "Epoch 90/100\n",
            "20/20 [==============================] - 0s 4ms/step - loss: 0.4925 - accuracy: 0.7517 - val_loss: 0.4876 - val_accuracy: 0.7917\n",
            "Epoch 91/100\n",
            "20/20 [==============================] - 0s 3ms/step - loss: 0.4848 - accuracy: 0.7674 - val_loss: 0.4874 - val_accuracy: 0.7917\n",
            "Epoch 92/100\n",
            "20/20 [==============================] - 0s 3ms/step - loss: 0.5098 - accuracy: 0.7448 - val_loss: 0.4873 - val_accuracy: 0.7917\n",
            "Epoch 93/100\n",
            "20/20 [==============================] - 0s 3ms/step - loss: 0.4880 - accuracy: 0.7708 - val_loss: 0.4881 - val_accuracy: 0.7917\n",
            "Epoch 94/100\n",
            "20/20 [==============================] - 0s 4ms/step - loss: 0.4890 - accuracy: 0.7639 - val_loss: 0.4880 - val_accuracy: 0.7917\n",
            "Epoch 95/100\n",
            "20/20 [==============================] - 0s 4ms/step - loss: 0.4905 - accuracy: 0.7674 - val_loss: 0.4881 - val_accuracy: 0.7917\n",
            "Epoch 96/100\n",
            "20/20 [==============================] - 0s 4ms/step - loss: 0.4710 - accuracy: 0.7639 - val_loss: 0.4886 - val_accuracy: 0.7917\n",
            "Epoch 97/100\n",
            "20/20 [==============================] - 0s 3ms/step - loss: 0.4735 - accuracy: 0.7604 - val_loss: 0.4881 - val_accuracy: 0.7917\n",
            "Epoch 98/100\n",
            "20/20 [==============================] - 0s 4ms/step - loss: 0.4979 - accuracy: 0.7465 - val_loss: 0.4879 - val_accuracy: 0.7917\n",
            "Epoch 99/100\n",
            "20/20 [==============================] - 0s 4ms/step - loss: 0.4932 - accuracy: 0.7639 - val_loss: 0.4882 - val_accuracy: 0.7917\n",
            "Epoch 100/100\n",
            "20/20 [==============================] - 0s 4ms/step - loss: 0.4911 - accuracy: 0.7743 - val_loss: 0.4871 - val_accuracy: 0.7917\n"
          ]
        }
      ]
    },
    {
      "cell_type": "code",
      "source": [
        "plt.plot(history2.history['loss'],c='r')\n",
        "plt.plot(history2.history['val_loss'])\n"
      ],
      "metadata": {
        "colab": {
          "base_uri": "https://localhost:8080/",
          "height": 283
        },
        "id": "Q2FxZqclUdXU",
        "outputId": "84869a08-450a-472d-90da-245423f8540f"
      },
      "execution_count": 164,
      "outputs": [
        {
          "output_type": "execute_result",
          "data": {
            "text/plain": [
              "[<matplotlib.lines.Line2D at 0x7fc200d8e090>]"
            ]
          },
          "metadata": {},
          "execution_count": 164
        },
        {
          "output_type": "display_data",
          "data": {
            "text/plain": [
              "<Figure size 432x288 with 1 Axes>"
            ],
            "image/png": "[encoded data removed]"
          },
          "metadata": {
            "needs_background": "light"
          }
        }
      ]
    },
    {
      "cell_type": "code",
      "source": [
        "plt.plot(history2.history['accuracy'],c='r')\n",
        "plt.plot(history2.history['val_accuracy'])"
      ],
      "metadata": {
        "colab": {
          "base_uri": "https://localhost:8080/",
          "height": 283
        },
        "id": "730Y5yzIU0-y",
        "outputId": "75231b39-7507-4a06-ac9a-c6e6844eb0f5"
      },
      "execution_count": 165,
      "outputs": [
        {
          "output_type": "execute_result",
          "data": {
            "text/plain": [
              "[<matplotlib.lines.Line2D at 0x7fc200e61850>]"
            ]
          },
          "metadata": {},
          "execution_count": 165
        },
        {
          "output_type": "display_data",
          "data": {
            "text/plain": [
              "<Figure size 432x288 with 1 Axes>"
            ],
            "image/png": "[encoded data removed]"
          },
          "metadata": {
            "needs_background": "light"
          }
        }
      ]
    },
    {
      "cell_type": "code",
      "source": [
        "y_log=model1.predict(X_test)"
      ],
      "metadata": {
        "colab": {
          "base_uri": "https://localhost:8080/"
        },
        "id": "Ux1weqxHmWk_",
        "outputId": "f79a5db5-912d-4b7b-96f8-120f754cfc69"
      },
      "execution_count": 166,
      "outputs": [
        {
          "output_type": "stream",
          "name": "stdout",
          "text": [
            "6/6 [==============================] - 0s 3ms/step\n"
          ]
        }
      ]
    },
    {
      "cell_type": "code",
      "source": [
        "import numpy as np\n",
        "y_pred=np.where(y_log>0.5,1,0)"
      ],
      "metadata": {
        "id": "jHJGCuAR2Alb"
      },
      "execution_count": 168,
      "outputs": []
    },
    {
      "cell_type": "code",
      "source": [
        "from sklearn.metrics import r2_score,accuracy_score"
      ],
      "metadata": {
        "id": "Su0idNdT2wSl"
      },
      "execution_count": 172,
      "outputs": []
    },
    {
      "cell_type": "code",
      "source": [
        "r2_score(y_pred,y_test)"
      ],
      "metadata": {
        "colab": {
          "base_uri": "https://localhost:8080/"
        },
        "id": "tPRtTyh72LDT",
        "outputId": "9df834ee-ed8e-4721-d4e3-864e30111e6f"
      },
      "execution_count": 173,
      "outputs": [
        {
          "output_type": "execute_result",
          "data": {
            "text/plain": [
              "-0.12692589875275107"
            ]
          },
          "metadata": {},
          "execution_count": 173
        }
      ]
    },
    {
      "cell_type": "code",
      "source": [
        "accuracy_score(y_pred,y_test)"
      ],
      "metadata": {
        "colab": {
          "base_uri": "https://localhost:8080/"
        },
        "id": "ASedTzMb2rBc",
        "outputId": "6d3e0247-adcf-43fd-d8c8-4739712a820c"
      },
      "execution_count": 174,
      "outputs": [
        {
          "output_type": "execute_result",
          "data": {
            "text/plain": [
              "0.7916666666666666"
            ]
          },
          "metadata": {},
          "execution_count": 174
        }
      ]
    },
    {
      "cell_type": "code",
      "source": [],
      "metadata": {
        "id": "prBvj5qI26ST"
      },
      "execution_count": null,
      "outputs": []
    }
  ]
}