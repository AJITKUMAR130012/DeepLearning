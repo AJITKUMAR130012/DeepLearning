{
  "nbformat": 4,
  "nbformat_minor": 0,
  "metadata": {
    "colab": {
      "provenance": []
    },
    "kernelspec": {
      "name": "python3",
      "display_name": "Python 3"
    },
    "language_info": {
      "name": "python"
    }
  },
  "cells": [
    {
      "cell_type": "code",
      "execution_count": 1,
      "metadata": {
        "id": "2fH8Uq2j_AuD"
      },
      "outputs": [],
      "source": [
        "import numpy as np\n",
        "import pandas as pd\n",
        "import tensorflow\n",
        "from tensorflow import keras\n",
        "from keras import Sequential\n",
        "from keras.layers import Dense"
      ]
    },
    {
      "cell_type": "code",
      "source": [
        "from sklearn.datasets import make_classification"
      ],
      "metadata": {
        "id": "RzkOgbre_lpU"
      },
      "execution_count": 2,
      "outputs": []
    },
    {
      "cell_type": "code",
      "source": [
        "X,y=make_classification(n_samples=100,n_features=2,n_informative=2,n_redundant=0,n_classes=2,n_clusters_per_class=2,random_state=3)"
      ],
      "metadata": {
        "id": "Iato_nKY_vEH"
      },
      "execution_count": 4,
      "outputs": []
    },
    {
      "cell_type": "code",
      "source": [
        "import matplotlib.pyplot as plt"
      ],
      "metadata": {
        "id": "SFRFchJyAMNd"
      },
      "execution_count": 5,
      "outputs": []
    },
    {
      "cell_type": "code",
      "source": [
        "plt.scatter(X[:,0],X[:,1],c=y[:])"
      ],
      "metadata": {
        "colab": {
          "base_uri": "https://localhost:8080/",
          "height": 283
        },
        "id": "W09S8fIbAR5t",
        "outputId": "1426666b-6f08-4a9e-a104-e5ae55fcf657"
      },
      "execution_count": 6,
      "outputs": [
        {
          "output_type": "execute_result",
          "data": {
            "text/plain": [
              "<matplotlib.collections.PathCollection at 0x7f053f498b50>"
            ]
          },
          "metadata": {},
          "execution_count": 6
        },
        {
          "output_type": "display_data",
          "data": {
            "text/plain": [
              "<Figure size 432x288 with 1 Axes>"
            ],
            "image/png": "[encoded data removed]"
          },
          "metadata": {
            "needs_background": "light"
          }
        }
      ]
    },
    {
      "cell_type": "code",
      "source": [
        "model1=Sequential()\n",
        "model1.add(Dense(2,activation='sigmoid',input_dim=2))\n",
        "model1.add(Dense(2,activation='sigmoid'))\n",
        "model1.add(Dense(1,activation='sigmoid'))"
      ],
      "metadata": {
        "id": "FL2iL1z8AZ_V"
      },
      "execution_count": 11,
      "outputs": []
    },
    {
      "cell_type": "code",
      "source": [
        "initial_weights=model1.get_weights()"
      ],
      "metadata": {
        "id": "bT5RV9Q9Bx9S"
      },
      "execution_count": 14,
      "outputs": []
    },
    {
      "cell_type": "code",
      "source": [
        "print(type(initial_weights))"
      ],
      "metadata": {
        "colab": {
          "base_uri": "https://localhost:8080/"
        },
        "id": "71h0VDnTB6qZ",
        "outputId": "eab9881f-cbb5-456a-f700-c2c8434bc2e3"
      },
      "execution_count": 15,
      "outputs": [
        {
          "output_type": "stream",
          "name": "stdout",
          "text": [
            "<class 'list'>\n"
          ]
        }
      ]
    },
    {
      "cell_type": "code",
      "source": [
        "print(len(initial_weights))"
      ],
      "metadata": {
        "colab": {
          "base_uri": "https://localhost:8080/"
        },
        "id": "2CQY8C2rCHkJ",
        "outputId": "56120c2d-db7c-49db-ab65-61ef97cce56d"
      },
      "execution_count": 16,
      "outputs": [
        {
          "output_type": "stream",
          "name": "stdout",
          "text": [
            "6\n"
          ]
        }
      ]
    },
    {
      "cell_type": "code",
      "source": [
        "initial_weights[0]=np.zeros(model1.get_weights()[0].shape)\n",
        "initial_weights[1]=np.zeros(model1.get_weights()[1].shape)\n",
        "initial_weights[2]=np.zeros(model1.get_weights()[2].shape)\n",
        "initial_weights[3]=np.zeros(model1.get_weights()[3].shape)\n",
        "initial_weights[4]=np.zeros(model1.get_weights()[4].shape)\n",
        "initial_weights[5]=np.zeros(model1.get_weights()[5].shape)\n"
      ],
      "metadata": {
        "id": "E32IuW8vCMwm"
      },
      "execution_count": 17,
      "outputs": []
    },
    {
      "cell_type": "code",
      "source": [
        "model1.set_weights(initial_weights)"
      ],
      "metadata": {
        "id": "B7x74mOJCM7f"
      },
      "execution_count": 18,
      "outputs": []
    },
    {
      "cell_type": "code",
      "source": [
        "model1.get_weights()"
      ],
      "metadata": {
        "colab": {
          "base_uri": "https://localhost:8080/"
        },
        "id": "-7JtYqeCDJxR",
        "outputId": "d42a4f83-85a1-430a-b975-d60835d9c045"
      },
      "execution_count": 20,
      "outputs": [
        {
          "output_type": "execute_result",
          "data": {
            "text/plain": [
              "[array([[0., 0.],\n",
              "        [0., 0.]], dtype=float32),\n",
              " array([0., 0.], dtype=float32),\n",
              " array([[0., 0.],\n",
              "        [0., 0.]], dtype=float32),\n",
              " array([0., 0.], dtype=float32),\n",
              " array([[0.],\n",
              "        [0.]], dtype=float32),\n",
              " array([0.], dtype=float32)]"
            ]
          },
          "metadata": {},
          "execution_count": 20
        }
      ]
    },
    {
      "cell_type": "code",
      "source": [
        "model1.compile(loss='binary_crossentropy',optimizer='adam',metrics=['accuracy'])"
      ],
      "metadata": {
        "id": "VspVrkCNA0eD"
      },
      "execution_count": 12,
      "outputs": []
    },
    {
      "cell_type": "code",
      "source": [],
      "metadata": {
        "id": "Jty6tAtoB1uI"
      },
      "execution_count": null,
      "outputs": []
    },
    {
      "cell_type": "code",
      "source": [
        "model1.fit(X,y,epochs=100,validation_split=0.2)"
      ],
      "metadata": {
        "colab": {
          "base_uri": "https://localhost:8080/"
        },
        "id": "iuBP7QLmBtJk",
        "outputId": "eeb5e66b-032c-4a30-9900-ab6f045b33bb"
      },
      "execution_count": 22,
      "outputs": [
        {
          "output_type": "stream",
          "name": "stdout",
          "text": [
            "Epoch 1/100\n",
            "3/3 [==============================] - 1s 98ms/step - loss: 0.6932 - accuracy: 0.5125 - val_loss: 0.6937 - val_accuracy: 0.3500\n",
            "Epoch 2/100\n",
            "3/3 [==============================] - 0s 14ms/step - loss: 0.6930 - accuracy: 0.5375 - val_loss: 0.6937 - val_accuracy: 0.3500\n",
            "Epoch 3/100\n",
            "3/3 [==============================] - 0s 13ms/step - loss: 0.6930 - accuracy: 0.5375 - val_loss: 0.6939 - val_accuracy: 0.3500\n",
            "Epoch 4/100\n",
            "3/3 [==============================] - 0s 13ms/step - loss: 0.6930 - accuracy: 0.5375 - val_loss: 0.6941 - val_accuracy: 0.3500\n",
            "Epoch 5/100\n",
            "3/3 [==============================] - 0s 13ms/step - loss: 0.6929 - accuracy: 0.5375 - val_loss: 0.6943 - val_accuracy: 0.3500\n",
            "Epoch 6/100\n",
            "3/3 [==============================] - 0s 13ms/step - loss: 0.6929 - accuracy: 0.5375 - val_loss: 0.6945 - val_accuracy: 0.3500\n",
            "Epoch 7/100\n",
            "3/3 [==============================] - 0s 13ms/step - loss: 0.6928 - accuracy: 0.5375 - val_loss: 0.6947 - val_accuracy: 0.3500\n",
            "Epoch 8/100\n",
            "3/3 [==============================] - 0s 14ms/step - loss: 0.6928 - accuracy: 0.5375 - val_loss: 0.6950 - val_accuracy: 0.3500\n",
            "Epoch 9/100\n",
            "3/3 [==============================] - 0s 14ms/step - loss: 0.6927 - accuracy: 0.5375 - val_loss: 0.6952 - val_accuracy: 0.3500\n",
            "Epoch 10/100\n",
            "3/3 [==============================] - 0s 13ms/step - loss: 0.6927 - accuracy: 0.5375 - val_loss: 0.6955 - val_accuracy: 0.3500\n",
            "Epoch 11/100\n",
            "3/3 [==============================] - 0s 14ms/step - loss: 0.6926 - accuracy: 0.5375 - val_loss: 0.6958 - val_accuracy: 0.3500\n",
            "Epoch 12/100\n",
            "3/3 [==============================] - 0s 13ms/step - loss: 0.6925 - accuracy: 0.5375 - val_loss: 0.6961 - val_accuracy: 0.3500\n",
            "Epoch 13/100\n",
            "3/3 [==============================] - 0s 13ms/step - loss: 0.6924 - accuracy: 0.5375 - val_loss: 0.6964 - val_accuracy: 0.3500\n",
            "Epoch 14/100\n",
            "3/3 [==============================] - 0s 13ms/step - loss: 0.6924 - accuracy: 0.5375 - val_loss: 0.6968 - val_accuracy: 0.3500\n",
            "Epoch 15/100\n",
            "3/3 [==============================] - 0s 15ms/step - loss: 0.6923 - accuracy: 0.5375 - val_loss: 0.6971 - val_accuracy: 0.3500\n",
            "Epoch 16/100\n",
            "3/3 [==============================] - 0s 14ms/step - loss: 0.6923 - accuracy: 0.5375 - val_loss: 0.6975 - val_accuracy: 0.3500\n",
            "Epoch 17/100\n",
            "3/3 [==============================] - 0s 13ms/step - loss: 0.6922 - accuracy: 0.5375 - val_loss: 0.6978 - val_accuracy: 0.3500\n",
            "Epoch 18/100\n",
            "3/3 [==============================] - 0s 13ms/step - loss: 0.6921 - accuracy: 0.5375 - val_loss: 0.6981 - val_accuracy: 0.3500\n",
            "Epoch 19/100\n",
            "3/3 [==============================] - 0s 14ms/step - loss: 0.6920 - accuracy: 0.5375 - val_loss: 0.6986 - val_accuracy: 0.3500\n",
            "Epoch 20/100\n",
            "3/3 [==============================] - 0s 14ms/step - loss: 0.6920 - accuracy: 0.5375 - val_loss: 0.6990 - val_accuracy: 0.3500\n",
            "Epoch 21/100\n",
            "3/3 [==============================] - 0s 14ms/step - loss: 0.6919 - accuracy: 0.5375 - val_loss: 0.6994 - val_accuracy: 0.3500\n",
            "Epoch 22/100\n",
            "3/3 [==============================] - 0s 13ms/step - loss: 0.6918 - accuracy: 0.5375 - val_loss: 0.6998 - val_accuracy: 0.3500\n",
            "Epoch 23/100\n",
            "3/3 [==============================] - 0s 12ms/step - loss: 0.6918 - accuracy: 0.5375 - val_loss: 0.7001 - val_accuracy: 0.3500\n",
            "Epoch 24/100\n",
            "3/3 [==============================] - 0s 16ms/step - loss: 0.6917 - accuracy: 0.5375 - val_loss: 0.7005 - val_accuracy: 0.3500\n",
            "Epoch 25/100\n",
            "3/3 [==============================] - 0s 13ms/step - loss: 0.6916 - accuracy: 0.5375 - val_loss: 0.7008 - val_accuracy: 0.3500\n",
            "Epoch 26/100\n",
            "3/3 [==============================] - 0s 12ms/step - loss: 0.6916 - accuracy: 0.5375 - val_loss: 0.7012 - val_accuracy: 0.3500\n",
            "Epoch 27/100\n",
            "3/3 [==============================] - 0s 16ms/step - loss: 0.6915 - accuracy: 0.5375 - val_loss: 0.7016 - val_accuracy: 0.3500\n",
            "Epoch 28/100\n",
            "3/3 [==============================] - 0s 13ms/step - loss: 0.6915 - accuracy: 0.5375 - val_loss: 0.7020 - val_accuracy: 0.3500\n",
            "Epoch 29/100\n",
            "3/3 [==============================] - 0s 13ms/step - loss: 0.6914 - accuracy: 0.5375 - val_loss: 0.7024 - val_accuracy: 0.3500\n",
            "Epoch 30/100\n",
            "3/3 [==============================] - 0s 14ms/step - loss: 0.6913 - accuracy: 0.5375 - val_loss: 0.7027 - val_accuracy: 0.3500\n",
            "Epoch 31/100\n",
            "3/3 [==============================] - 0s 14ms/step - loss: 0.6913 - accuracy: 0.5375 - val_loss: 0.7032 - val_accuracy: 0.3500\n",
            "Epoch 32/100\n",
            "3/3 [==============================] - 0s 13ms/step - loss: 0.6913 - accuracy: 0.5375 - val_loss: 0.7037 - val_accuracy: 0.3500\n",
            "Epoch 33/100\n",
            "3/3 [==============================] - 0s 13ms/step - loss: 0.6912 - accuracy: 0.5375 - val_loss: 0.7040 - val_accuracy: 0.3500\n",
            "Epoch 34/100\n",
            "3/3 [==============================] - 0s 13ms/step - loss: 0.6911 - accuracy: 0.5375 - val_loss: 0.7042 - val_accuracy: 0.3500\n",
            "Epoch 35/100\n",
            "3/3 [==============================] - 0s 14ms/step - loss: 0.6911 - accuracy: 0.5375 - val_loss: 0.7045 - val_accuracy: 0.3500\n",
            "Epoch 36/100\n",
            "3/3 [==============================] - 0s 14ms/step - loss: 0.6910 - accuracy: 0.5375 - val_loss: 0.7048 - val_accuracy: 0.3500\n",
            "Epoch 37/100\n",
            "3/3 [==============================] - 0s 13ms/step - loss: 0.6910 - accuracy: 0.5375 - val_loss: 0.7052 - val_accuracy: 0.3500\n",
            "Epoch 38/100\n",
            "3/3 [==============================] - 0s 13ms/step - loss: 0.6910 - accuracy: 0.5375 - val_loss: 0.7055 - val_accuracy: 0.3500\n",
            "Epoch 39/100\n",
            "3/3 [==============================] - 0s 23ms/step - loss: 0.6910 - accuracy: 0.5375 - val_loss: 0.7059 - val_accuracy: 0.3500\n",
            "Epoch 40/100\n",
            "3/3 [==============================] - 0s 13ms/step - loss: 0.6909 - accuracy: 0.5375 - val_loss: 0.7062 - val_accuracy: 0.3500\n",
            "Epoch 41/100\n",
            "3/3 [==============================] - 0s 14ms/step - loss: 0.6909 - accuracy: 0.5375 - val_loss: 0.7064 - val_accuracy: 0.3500\n",
            "Epoch 42/100\n",
            "3/3 [==============================] - 0s 24ms/step - loss: 0.6909 - accuracy: 0.5375 - val_loss: 0.7067 - val_accuracy: 0.3500\n",
            "Epoch 43/100\n",
            "3/3 [==============================] - 0s 14ms/step - loss: 0.6908 - accuracy: 0.5375 - val_loss: 0.7069 - val_accuracy: 0.3500\n",
            "Epoch 44/100\n",
            "3/3 [==============================] - 0s 14ms/step - loss: 0.6908 - accuracy: 0.5375 - val_loss: 0.7071 - val_accuracy: 0.3500\n",
            "Epoch 45/100\n",
            "3/3 [==============================] - 0s 14ms/step - loss: 0.6908 - accuracy: 0.5375 - val_loss: 0.7074 - val_accuracy: 0.3500\n",
            "Epoch 46/100\n",
            "3/3 [==============================] - 0s 15ms/step - loss: 0.6907 - accuracy: 0.5375 - val_loss: 0.7076 - val_accuracy: 0.3500\n",
            "Epoch 47/100\n",
            "3/3 [==============================] - 0s 13ms/step - loss: 0.6907 - accuracy: 0.5375 - val_loss: 0.7079 - val_accuracy: 0.3500\n",
            "Epoch 48/100\n",
            "3/3 [==============================] - 0s 13ms/step - loss: 0.6906 - accuracy: 0.5375 - val_loss: 0.7082 - val_accuracy: 0.3500\n",
            "Epoch 49/100\n",
            "3/3 [==============================] - 0s 20ms/step - loss: 0.6907 - accuracy: 0.5375 - val_loss: 0.7087 - val_accuracy: 0.3500\n",
            "Epoch 50/100\n",
            "3/3 [==============================] - 0s 16ms/step - loss: 0.6906 - accuracy: 0.5375 - val_loss: 0.7091 - val_accuracy: 0.3500\n",
            "Epoch 51/100\n",
            "3/3 [==============================] - 0s 12ms/step - loss: 0.6905 - accuracy: 0.5375 - val_loss: 0.7094 - val_accuracy: 0.3500\n",
            "Epoch 52/100\n",
            "3/3 [==============================] - 0s 12ms/step - loss: 0.6905 - accuracy: 0.5375 - val_loss: 0.7096 - val_accuracy: 0.3500\n",
            "Epoch 53/100\n",
            "3/3 [==============================] - 0s 13ms/step - loss: 0.6905 - accuracy: 0.5375 - val_loss: 0.7100 - val_accuracy: 0.3500\n",
            "Epoch 54/100\n",
            "3/3 [==============================] - 0s 14ms/step - loss: 0.6905 - accuracy: 0.5375 - val_loss: 0.7103 - val_accuracy: 0.3500\n",
            "Epoch 55/100\n",
            "3/3 [==============================] - 0s 14ms/step - loss: 0.6904 - accuracy: 0.5375 - val_loss: 0.7105 - val_accuracy: 0.3500\n",
            "Epoch 56/100\n",
            "3/3 [==============================] - 0s 13ms/step - loss: 0.6904 - accuracy: 0.5375 - val_loss: 0.7106 - val_accuracy: 0.3500\n",
            "Epoch 57/100\n",
            "3/3 [==============================] - 0s 13ms/step - loss: 0.6904 - accuracy: 0.5375 - val_loss: 0.7108 - val_accuracy: 0.3500\n",
            "Epoch 58/100\n",
            "3/3 [==============================] - 0s 14ms/step - loss: 0.6904 - accuracy: 0.5375 - val_loss: 0.7109 - val_accuracy: 0.3500\n",
            "Epoch 59/100\n",
            "3/3 [==============================] - 0s 15ms/step - loss: 0.6904 - accuracy: 0.5375 - val_loss: 0.7110 - val_accuracy: 0.3500\n",
            "Epoch 60/100\n",
            "3/3 [==============================] - 0s 14ms/step - loss: 0.6903 - accuracy: 0.5375 - val_loss: 0.7111 - val_accuracy: 0.3500\n",
            "Epoch 61/100\n",
            "3/3 [==============================] - 0s 15ms/step - loss: 0.6903 - accuracy: 0.5375 - val_loss: 0.7113 - val_accuracy: 0.3500\n",
            "Epoch 62/100\n",
            "3/3 [==============================] - 0s 14ms/step - loss: 0.6903 - accuracy: 0.5375 - val_loss: 0.7116 - val_accuracy: 0.3500\n",
            "Epoch 63/100\n",
            "3/3 [==============================] - 0s 24ms/step - loss: 0.6903 - accuracy: 0.5375 - val_loss: 0.7119 - val_accuracy: 0.3500\n",
            "Epoch 64/100\n",
            "3/3 [==============================] - 0s 14ms/step - loss: 0.6903 - accuracy: 0.5375 - val_loss: 0.7121 - val_accuracy: 0.3500\n",
            "Epoch 65/100\n",
            "3/3 [==============================] - 0s 14ms/step - loss: 0.6903 - accuracy: 0.5375 - val_loss: 0.7122 - val_accuracy: 0.3500\n",
            "Epoch 66/100\n",
            "3/3 [==============================] - 0s 14ms/step - loss: 0.6902 - accuracy: 0.5375 - val_loss: 0.7122 - val_accuracy: 0.3500\n",
            "Epoch 67/100\n",
            "3/3 [==============================] - 0s 13ms/step - loss: 0.6902 - accuracy: 0.5375 - val_loss: 0.7122 - val_accuracy: 0.3500\n",
            "Epoch 68/100\n",
            "3/3 [==============================] - 0s 14ms/step - loss: 0.6902 - accuracy: 0.5375 - val_loss: 0.7122 - val_accuracy: 0.3500\n",
            "Epoch 69/100\n",
            "3/3 [==============================] - 0s 14ms/step - loss: 0.6902 - accuracy: 0.5375 - val_loss: 0.7124 - val_accuracy: 0.3500\n",
            "Epoch 70/100\n",
            "3/3 [==============================] - 0s 13ms/step - loss: 0.6902 - accuracy: 0.5375 - val_loss: 0.7125 - val_accuracy: 0.3500\n",
            "Epoch 71/100\n",
            "3/3 [==============================] - 0s 14ms/step - loss: 0.6902 - accuracy: 0.5375 - val_loss: 0.7128 - val_accuracy: 0.3500\n",
            "Epoch 72/100\n",
            "3/3 [==============================] - 0s 13ms/step - loss: 0.6901 - accuracy: 0.5375 - val_loss: 0.7130 - val_accuracy: 0.3500\n",
            "Epoch 73/100\n",
            "3/3 [==============================] - 0s 14ms/step - loss: 0.6901 - accuracy: 0.5375 - val_loss: 0.7131 - val_accuracy: 0.3500\n",
            "Epoch 74/100\n",
            "3/3 [==============================] - 0s 18ms/step - loss: 0.6901 - accuracy: 0.5375 - val_loss: 0.7132 - val_accuracy: 0.3500\n",
            "Epoch 75/100\n",
            "3/3 [==============================] - 0s 16ms/step - loss: 0.6901 - accuracy: 0.5375 - val_loss: 0.7132 - val_accuracy: 0.3500\n",
            "Epoch 76/100\n",
            "3/3 [==============================] - 0s 14ms/step - loss: 0.6901 - accuracy: 0.5375 - val_loss: 0.7133 - val_accuracy: 0.3500\n",
            "Epoch 77/100\n",
            "3/3 [==============================] - 0s 14ms/step - loss: 0.6900 - accuracy: 0.5375 - val_loss: 0.7132 - val_accuracy: 0.3500\n",
            "Epoch 78/100\n",
            "3/3 [==============================] - 0s 14ms/step - loss: 0.6900 - accuracy: 0.5375 - val_loss: 0.7132 - val_accuracy: 0.3500\n",
            "Epoch 79/100\n",
            "3/3 [==============================] - 0s 14ms/step - loss: 0.6900 - accuracy: 0.5375 - val_loss: 0.7133 - val_accuracy: 0.3500\n",
            "Epoch 80/100\n",
            "3/3 [==============================] - 0s 14ms/step - loss: 0.6900 - accuracy: 0.5375 - val_loss: 0.7136 - val_accuracy: 0.3500\n",
            "Epoch 81/100\n",
            "3/3 [==============================] - 0s 15ms/step - loss: 0.6900 - accuracy: 0.5375 - val_loss: 0.7139 - val_accuracy: 0.3500\n",
            "Epoch 82/100\n",
            "3/3 [==============================] - 0s 14ms/step - loss: 0.6899 - accuracy: 0.5375 - val_loss: 0.7141 - val_accuracy: 0.3500\n",
            "Epoch 83/100\n",
            "3/3 [==============================] - 0s 16ms/step - loss: 0.6899 - accuracy: 0.5375 - val_loss: 0.7142 - val_accuracy: 0.3500\n",
            "Epoch 84/100\n",
            "3/3 [==============================] - 0s 13ms/step - loss: 0.6899 - accuracy: 0.5375 - val_loss: 0.7142 - val_accuracy: 0.3500\n",
            "Epoch 85/100\n",
            "3/3 [==============================] - 0s 13ms/step - loss: 0.6899 - accuracy: 0.5375 - val_loss: 0.7144 - val_accuracy: 0.3500\n",
            "Epoch 86/100\n",
            "3/3 [==============================] - 0s 13ms/step - loss: 0.6899 - accuracy: 0.5375 - val_loss: 0.7145 - val_accuracy: 0.3500\n",
            "Epoch 87/100\n",
            "3/3 [==============================] - 0s 14ms/step - loss: 0.6898 - accuracy: 0.5375 - val_loss: 0.7146 - val_accuracy: 0.3500\n",
            "Epoch 88/100\n",
            "3/3 [==============================] - 0s 18ms/step - loss: 0.6898 - accuracy: 0.5375 - val_loss: 0.7146 - val_accuracy: 0.3500\n",
            "Epoch 89/100\n",
            "3/3 [==============================] - 0s 17ms/step - loss: 0.6898 - accuracy: 0.5375 - val_loss: 0.7147 - val_accuracy: 0.3500\n",
            "Epoch 90/100\n",
            "3/3 [==============================] - 0s 14ms/step - loss: 0.6898 - accuracy: 0.5375 - val_loss: 0.7148 - val_accuracy: 0.3500\n",
            "Epoch 91/100\n",
            "3/3 [==============================] - 0s 16ms/step - loss: 0.6898 - accuracy: 0.5375 - val_loss: 0.7147 - val_accuracy: 0.3500\n",
            "Epoch 92/100\n",
            "3/3 [==============================] - 0s 14ms/step - loss: 0.6897 - accuracy: 0.5375 - val_loss: 0.7147 - val_accuracy: 0.3500\n",
            "Epoch 93/100\n",
            "3/3 [==============================] - 0s 13ms/step - loss: 0.6897 - accuracy: 0.5375 - val_loss: 0.7146 - val_accuracy: 0.3500\n",
            "Epoch 94/100\n",
            "3/3 [==============================] - 0s 13ms/step - loss: 0.6897 - accuracy: 0.5375 - val_loss: 0.7145 - val_accuracy: 0.3500\n",
            "Epoch 95/100\n",
            "3/3 [==============================] - 0s 13ms/step - loss: 0.6897 - accuracy: 0.5375 - val_loss: 0.7143 - val_accuracy: 0.3500\n",
            "Epoch 96/100\n",
            "3/3 [==============================] - 0s 13ms/step - loss: 0.6897 - accuracy: 0.5375 - val_loss: 0.7142 - val_accuracy: 0.3500\n",
            "Epoch 97/100\n",
            "3/3 [==============================] - 0s 13ms/step - loss: 0.6897 - accuracy: 0.5375 - val_loss: 0.7142 - val_accuracy: 0.3500\n",
            "Epoch 98/100\n",
            "3/3 [==============================] - 0s 14ms/step - loss: 0.6897 - accuracy: 0.5375 - val_loss: 0.7142 - val_accuracy: 0.3500\n",
            "Epoch 99/100\n",
            "3/3 [==============================] - 0s 16ms/step - loss: 0.6897 - accuracy: 0.5375 - val_loss: 0.7142 - val_accuracy: 0.3500\n",
            "Epoch 100/100\n",
            "3/3 [==============================] - 0s 15ms/step - loss: 0.6896 - accuracy: 0.5375 - val_loss: 0.7143 - val_accuracy: 0.3500\n"
          ]
        },
        {
          "output_type": "execute_result",
          "data": {
            "text/plain": [
              "<keras.callbacks.History at 0x7f053b06d050>"
            ]
          },
          "metadata": {},
          "execution_count": 22
        }
      ]
    },
    {
      "cell_type": "code",
      "source": [
        "model1.get_weights()"
      ],
      "metadata": {
        "colab": {
          "base_uri": "https://localhost:8080/"
        },
        "id": "sleP4huzDUBc",
        "outputId": "dca54b08-d995-4188-861c-1de8849c9993"
      },
      "execution_count": 24,
      "outputs": [
        {
          "output_type": "execute_result",
          "data": {
            "text/plain": [
              "[array([[0.11661943, 0.11661943],\n",
              "        [0.49420696, 0.49420696]], dtype=float32),\n",
              " array([0.05692466, 0.05692466], dtype=float32),\n",
              " array([[0.24147823, 0.24147823],\n",
              "        [0.24147823, 0.24147823]], dtype=float32),\n",
              " array([0.07663868, 0.07663868], dtype=float32),\n",
              " array([[0.06558209],\n",
              "        [0.06558209]], dtype=float32),\n",
              " array([0.05500388], dtype=float32)]"
            ]
          },
          "metadata": {},
          "execution_count": 24
        }
      ]
    },
    {
      "cell_type": "code",
      "source": [
        "#as we can see that all region is declared as yellow. Actually it is working like a linear model and in above result we can also\n",
        "# see that weight from same input is same\n",
        "\n",
        "\n",
        "from mlxtend.plotting import plot_decision_regions\n",
        "plot_decision_regions(X,y.astype('int'),clf=model1,legend=2)"
      ],
      "metadata": {
        "colab": {
          "base_uri": "https://localhost:8080/",
          "height": 357
        },
        "id": "-HH3ijkBDbqb",
        "outputId": "44449da9-751e-419c-9aef-01dc12b36fba"
      },
      "execution_count": 30,
      "outputs": [
        {
          "output_type": "stream",
          "name": "stderr",
          "text": [
            "/usr/local/lib/python3.7/dist-packages/mlxtend/plotting/decision_regions.py:242: UserWarning: No contour levels were found within the data range.\n",
            "  antialiased=True)\n",
            "/usr/local/lib/python3.7/dist-packages/mlxtend/plotting/decision_regions.py:244: MatplotlibDeprecationWarning: Passing unsupported keyword arguments to axis() will raise a TypeError in 3.3.\n",
            "  ax.axis(xmin=xx.min(), xmax=xx.max(), y_min=yy.min(), y_max=yy.max())\n"
          ]
        },
        {
          "output_type": "execute_result",
          "data": {
            "text/plain": [
              "<matplotlib.axes._subplots.AxesSubplot at 0x7f053959d990>"
            ]
          },
          "metadata": {},
          "execution_count": 30
        },
        {
          "output_type": "display_data",
          "data": {
            "text/plain": [
              "<Figure size 432x288 with 1 Axes>"
            ],
            "image/png": "[encoded data removed]"
          },
          "metadata": {
            "needs_background": "light"
          }
        }
      ]
    },
    {
      "cell_type": "code",
      "source": [],
      "metadata": {
        "id": "rzAD1ChxFJCE"
      },
      "execution_count": null,
      "outputs": []
    }
  ]
}